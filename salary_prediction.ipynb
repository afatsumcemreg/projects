{
 "cells": [
  {
   "cell_type": "markdown",
   "metadata": {},
   "source": [
    "# **Developing a machine learning model to predict the salary of baseball players**\n",
    "\n",
    "## **Dataset Story**\n",
    "* This dataset was originally taken from the StatLib library at Carnegie Mellon University.\n",
    "* The dataset is part of the data used in the 1988 ASA Graphics Section Poster Session.\n",
    "* Salary data originally from Sports Illustrated, April 20, 1987.\n",
    "* 1986 and career statistics are from the 1987 Baseball Encyclopedia Update, published by Collier Books, Macmillan Publishing Company, New York."
   ]
  },
  {
   "cell_type": "markdown",
   "metadata": {},
   "source": [
    "## **Import Libraries**"
   ]
  },
  {
   "cell_type": "code",
   "execution_count": 577,
   "metadata": {},
   "outputs": [],
   "source": [
    "import matplotlib.pyplot as plt\n",
    "import numpy as np\n",
    "import pandas as pd\n",
    "import seaborn as sns\n",
    "import warnings\n",
    "warnings.filterwarnings('ignore')\n",
    "import missingno as msno\n",
    "from sklearn.preprocessing import RobustScaler, LabelEncoder\n",
    "from sklearn.linear_model import LinearRegression\n",
    "from sklearn.metrics import mean_squared_error, mean_absolute_error\n",
    "from sklearn.model_selection import train_test_split, cross_val_score\n",
    "\n",
    "pd.set_option('display.max_columns', None)\n",
    "pd.set_option('display.float_format', lambda x: '%.3f' %x)\n",
    "pd.set_option('display.width', 500)"
   ]
  },
  {
   "cell_type": "markdown",
   "metadata": {},
   "source": [
    "## **Import Dataset**"
   ]
  },
  {
   "cell_type": "code",
   "execution_count": 482,
   "metadata": {},
   "outputs": [
    {
     "data": {
      "text/html": [
       "<div>\n",
       "<style scoped>\n",
       "    .dataframe tbody tr th:only-of-type {\n",
       "        vertical-align: middle;\n",
       "    }\n",
       "\n",
       "    .dataframe tbody tr th {\n",
       "        vertical-align: top;\n",
       "    }\n",
       "\n",
       "    .dataframe thead th {\n",
       "        text-align: right;\n",
       "    }\n",
       "</style>\n",
       "<table border=\"1\" class=\"dataframe\">\n",
       "  <thead>\n",
       "    <tr style=\"text-align: right;\">\n",
       "      <th></th>\n",
       "      <th>atbat</th>\n",
       "      <th>hits</th>\n",
       "      <th>hmrun</th>\n",
       "      <th>runs</th>\n",
       "      <th>rbi</th>\n",
       "      <th>walks</th>\n",
       "      <th>years</th>\n",
       "      <th>catbat</th>\n",
       "      <th>chits</th>\n",
       "      <th>chmrun</th>\n",
       "      <th>cruns</th>\n",
       "      <th>crbi</th>\n",
       "      <th>cwalks</th>\n",
       "      <th>league</th>\n",
       "      <th>division</th>\n",
       "      <th>putouts</th>\n",
       "      <th>assists</th>\n",
       "      <th>errors</th>\n",
       "      <th>salary</th>\n",
       "      <th>newleague</th>\n",
       "    </tr>\n",
       "  </thead>\n",
       "  <tbody>\n",
       "    <tr>\n",
       "      <th>0</th>\n",
       "      <td>293</td>\n",
       "      <td>66</td>\n",
       "      <td>1</td>\n",
       "      <td>30</td>\n",
       "      <td>29</td>\n",
       "      <td>14</td>\n",
       "      <td>1</td>\n",
       "      <td>293</td>\n",
       "      <td>66</td>\n",
       "      <td>1</td>\n",
       "      <td>30</td>\n",
       "      <td>29</td>\n",
       "      <td>14</td>\n",
       "      <td>A</td>\n",
       "      <td>E</td>\n",
       "      <td>446</td>\n",
       "      <td>33</td>\n",
       "      <td>20</td>\n",
       "      <td>NaN</td>\n",
       "      <td>A</td>\n",
       "    </tr>\n",
       "    <tr>\n",
       "      <th>1</th>\n",
       "      <td>315</td>\n",
       "      <td>81</td>\n",
       "      <td>7</td>\n",
       "      <td>24</td>\n",
       "      <td>38</td>\n",
       "      <td>39</td>\n",
       "      <td>14</td>\n",
       "      <td>3449</td>\n",
       "      <td>835</td>\n",
       "      <td>69</td>\n",
       "      <td>321</td>\n",
       "      <td>414</td>\n",
       "      <td>375</td>\n",
       "      <td>N</td>\n",
       "      <td>W</td>\n",
       "      <td>632</td>\n",
       "      <td>43</td>\n",
       "      <td>10</td>\n",
       "      <td>475.000</td>\n",
       "      <td>N</td>\n",
       "    </tr>\n",
       "    <tr>\n",
       "      <th>2</th>\n",
       "      <td>479</td>\n",
       "      <td>130</td>\n",
       "      <td>18</td>\n",
       "      <td>66</td>\n",
       "      <td>72</td>\n",
       "      <td>76</td>\n",
       "      <td>3</td>\n",
       "      <td>1624</td>\n",
       "      <td>457</td>\n",
       "      <td>63</td>\n",
       "      <td>224</td>\n",
       "      <td>266</td>\n",
       "      <td>263</td>\n",
       "      <td>A</td>\n",
       "      <td>W</td>\n",
       "      <td>880</td>\n",
       "      <td>82</td>\n",
       "      <td>14</td>\n",
       "      <td>480.000</td>\n",
       "      <td>A</td>\n",
       "    </tr>\n",
       "    <tr>\n",
       "      <th>3</th>\n",
       "      <td>496</td>\n",
       "      <td>141</td>\n",
       "      <td>20</td>\n",
       "      <td>65</td>\n",
       "      <td>78</td>\n",
       "      <td>37</td>\n",
       "      <td>11</td>\n",
       "      <td>5628</td>\n",
       "      <td>1575</td>\n",
       "      <td>225</td>\n",
       "      <td>828</td>\n",
       "      <td>838</td>\n",
       "      <td>354</td>\n",
       "      <td>N</td>\n",
       "      <td>E</td>\n",
       "      <td>200</td>\n",
       "      <td>11</td>\n",
       "      <td>3</td>\n",
       "      <td>500.000</td>\n",
       "      <td>N</td>\n",
       "    </tr>\n",
       "    <tr>\n",
       "      <th>4</th>\n",
       "      <td>321</td>\n",
       "      <td>87</td>\n",
       "      <td>10</td>\n",
       "      <td>39</td>\n",
       "      <td>42</td>\n",
       "      <td>30</td>\n",
       "      <td>2</td>\n",
       "      <td>396</td>\n",
       "      <td>101</td>\n",
       "      <td>12</td>\n",
       "      <td>48</td>\n",
       "      <td>46</td>\n",
       "      <td>33</td>\n",
       "      <td>N</td>\n",
       "      <td>E</td>\n",
       "      <td>805</td>\n",
       "      <td>40</td>\n",
       "      <td>4</td>\n",
       "      <td>91.500</td>\n",
       "      <td>N</td>\n",
       "    </tr>\n",
       "  </tbody>\n",
       "</table>\n",
       "</div>"
      ],
      "text/plain": [
       "   atbat  hits  hmrun  runs  rbi  walks  years  catbat  chits  chmrun  cruns  crbi  cwalks league division  putouts  assists  errors  salary newleague\n",
       "0    293    66      1    30   29     14      1     293     66       1     30    29      14      A        E      446       33      20     NaN         A\n",
       "1    315    81      7    24   38     39     14    3449    835      69    321   414     375      N        W      632       43      10 475.000         N\n",
       "2    479   130     18    66   72     76      3    1624    457      63    224   266     263      A        W      880       82      14 480.000         A\n",
       "3    496   141     20    65   78     37     11    5628   1575     225    828   838     354      N        E      200       11       3 500.000         N\n",
       "4    321    87     10    39   42     30      2     396    101      12     48    46      33      N        E      805       40       4  91.500         N"
      ]
     },
     "execution_count": 482,
     "metadata": {},
     "output_type": "execute_result"
    }
   ],
   "source": [
    "def dataset():\n",
    "    dataframe = pd.read_csv('C:/Users/test/Desktop/PROGRAMMING/MIUUL_SUMMER_CAMP/03. machine_learning/odev_1/hitters.csv')\n",
    "    return dataframe\n",
    "\n",
    "df = dataset()\n",
    "df.columns = [col.lower() for col in df.columns]\n",
    "df.head()"
   ]
  },
  {
   "cell_type": "code",
   "execution_count": 483,
   "metadata": {},
   "outputs": [
    {
     "data": {
      "text/plain": [
       "atbat         0\n",
       "hits          0\n",
       "hmrun         0\n",
       "runs          0\n",
       "rbi           0\n",
       "walks         0\n",
       "years         0\n",
       "catbat        0\n",
       "chits         0\n",
       "chmrun        0\n",
       "cruns         0\n",
       "crbi          0\n",
       "cwalks        0\n",
       "league        0\n",
       "division      0\n",
       "putouts       0\n",
       "assists       0\n",
       "errors        0\n",
       "salary       59\n",
       "newleague     0\n",
       "dtype: int64"
      ]
     },
     "execution_count": 483,
     "metadata": {},
     "output_type": "execute_result"
    }
   ],
   "source": [
    "df.isnull().sum()"
   ]
  },
  {
   "cell_type": "markdown",
   "metadata": {},
   "source": [
    "## **Exploratory Data Analysis**"
   ]
  },
  {
   "cell_type": "markdown",
   "metadata": {},
   "source": [
    "### **General Picture of Dataset**"
   ]
  },
  {
   "cell_type": "code",
   "execution_count": 484,
   "metadata": {},
   "outputs": [
    {
     "name": "stdout",
     "output_type": "stream",
     "text": [
      "*********************Head***********************\n",
      "   atbat  hits  hmrun  runs  rbi  walks  years  catbat  chits  chmrun  cruns  crbi  cwalks league division  putouts  assists  errors  salary newleague\n",
      "0    293    66      1    30   29     14      1     293     66       1     30    29      14      A        E      446       33      20     NaN         A\n",
      "1    315    81      7    24   38     39     14    3449    835      69    321   414     375      N        W      632       43      10 475.000         N\n",
      "2    479   130     18    66   72     76      3    1624    457      63    224   266     263      A        W      880       82      14 480.000         A\n",
      "3    496   141     20    65   78     37     11    5628   1575     225    828   838     354      N        E      200       11       3 500.000         N\n",
      "4    321    87     10    39   42     30      2     396    101      12     48    46      33      N        E      805       40       4  91.500         N\n",
      "\n",
      "*********************Tail***********************\n",
      "     atbat  hits  hmrun  runs  rbi  walks  years  catbat  chits  chmrun  cruns  crbi  cwalks league division  putouts  assists  errors   salary newleague\n",
      "317    497   127      7    65   48     37      5    2703    806      32    379   311     138      N        E      325        9       3  700.000         N\n",
      "318    492   136      5    76   50     94     12    5511   1511      39    897   451     875      A        E      313      381      20  875.000         A\n",
      "319    475   126      3    61   43     52      6    1700    433       7    217    93     146      A        W       37      113       7  385.000         A\n",
      "320    573   144      9    85   60     78      8    3198    857      97    470   420     332      A        E     1314      131      12  960.000         A\n",
      "321    631   170      9    77   44     31     11    4908   1457      30    775   357     249      A        W      408        4       3 1000.000         A\n",
      "\n",
      "*********************Shape***********************\n",
      "(322, 20)\n",
      "\n",
      "*********************Columns***********************\n",
      "Index(['atbat', 'hits', 'hmrun', 'runs', 'rbi', 'walks', 'years', 'catbat', 'chits', 'chmrun', 'cruns', 'crbi', 'cwalks', 'league', 'division', 'putouts', 'assists', 'errors', 'salary', 'newleague'], dtype='object')\n",
      "\n",
      "*********************Info***********************\n",
      "<class 'pandas.core.frame.DataFrame'>\n",
      "RangeIndex: 322 entries, 0 to 321\n",
      "Data columns (total 20 columns):\n",
      " #   Column     Non-Null Count  Dtype  \n",
      "---  ------     --------------  -----  \n",
      " 0   atbat      322 non-null    int64  \n",
      " 1   hits       322 non-null    int64  \n",
      " 2   hmrun      322 non-null    int64  \n",
      " 3   runs       322 non-null    int64  \n",
      " 4   rbi        322 non-null    int64  \n",
      " 5   walks      322 non-null    int64  \n",
      " 6   years      322 non-null    int64  \n",
      " 7   catbat     322 non-null    int64  \n",
      " 8   chits      322 non-null    int64  \n",
      " 9   chmrun     322 non-null    int64  \n",
      " 10  cruns      322 non-null    int64  \n",
      " 11  crbi       322 non-null    int64  \n",
      " 12  cwalks     322 non-null    int64  \n",
      " 13  league     322 non-null    object \n",
      " 14  division   322 non-null    object \n",
      " 15  putouts    322 non-null    int64  \n",
      " 16  assists    322 non-null    int64  \n",
      " 17  errors     322 non-null    int64  \n",
      " 18  salary     263 non-null    float64\n",
      " 19  newleague  322 non-null    object \n",
      "dtypes: float64(1), int64(16), object(3)\n",
      "memory usage: 50.4+ KB\n",
      "None\n",
      "\n",
      "*********************Number Unique***********************\n",
      "atbat        247\n",
      "hits         144\n",
      "hmrun         36\n",
      "runs          96\n",
      "rbi          103\n",
      "walks         89\n",
      "years         22\n",
      "catbat       314\n",
      "chits        288\n",
      "chmrun       146\n",
      "cruns        261\n",
      "crbi         262\n",
      "cwalks       248\n",
      "league         2\n",
      "division       2\n",
      "putouts      232\n",
      "assists      161\n",
      "errors        29\n",
      "salary       150\n",
      "newleague      2\n",
      "dtype: int64\n",
      "\n",
      "*********************Index***********************\n",
      "RangeIndex(start=0, stop=322, step=1)\n",
      "\n",
      "*********************Missing Values in Variables***********************\n",
      "atbat         0\n",
      "hits          0\n",
      "hmrun         0\n",
      "runs          0\n",
      "rbi           0\n",
      "walks         0\n",
      "years         0\n",
      "catbat        0\n",
      "chits         0\n",
      "chmrun        0\n",
      "cruns         0\n",
      "crbi          0\n",
      "cwalks        0\n",
      "league        0\n",
      "division      0\n",
      "putouts       0\n",
      "assists       0\n",
      "errors        0\n",
      "salary       59\n",
      "newleague     0\n",
      "dtype: int64\n",
      "\n",
      "*********************Missing Values or Not***********************\n",
      "True\n",
      "\n",
      "*********************Sum Missing Values in Variables***********************\n",
      "59\n",
      "\n",
      "*********************Not Null Numbers in Variables***********************\n",
      "atbat        322\n",
      "hits         322\n",
      "hmrun        322\n",
      "runs         322\n",
      "rbi          322\n",
      "walks        322\n",
      "years        322\n",
      "catbat       322\n",
      "chits        322\n",
      "chmrun       322\n",
      "cruns        322\n",
      "crbi         322\n",
      "cwalks       322\n",
      "league       322\n",
      "division     322\n",
      "putouts      322\n",
      "assists      322\n",
      "errors       322\n",
      "salary       263\n",
      "newleague    322\n",
      "dtype: int64\n",
      "\n",
      "*********************Observation units with at least 1 missing value***********************\n",
      "     atbat  hits  hmrun  runs  rbi  walks  years  catbat  chits  chmrun  cruns  crbi  cwalks league division  putouts  assists  errors  salary newleague\n",
      "0      293    66      1    30   29     14      1     293     66       1     30    29      14      A        E      446       33      20     NaN         A\n",
      "15     183    39      3    20   15     11      3     201     42       3     20    16      11      A        W      118        0       0     NaN         A\n",
      "18     407   104      6    57   43     65     12    5233   1478     100    643   658     653      A        W      912       88       9     NaN         A\n",
      "22      22    10      1     4    2      1      6      84     26       2      9     9       3      A        W      812       84      11     NaN         A\n",
      "30     313    84      9    42   30     39     17    6890   1833     224   1033   864    1087      A        W      127      221       7     NaN         A\n",
      "32     517   141     27    70   87     52      9    3571    994     215    545   652     337      N        W     1378      102       8     NaN         N\n",
      "36     161    36      0    19   10     17      4    1053    244       3    156    86     107      A        E       70      149      12     NaN         A\n",
      "38     346    98      5    31   53     30     16    5913   1615     235    784   901     560      A        E        0        0       0     NaN         A\n",
      "39     241    61      1    34   12     14      1     241     61       1     34    12      14      N        W      166      172      10     NaN         N\n",
      "41     216    54      0    21   18     15     18    7318   1926      46    796   627     483      N        W      103       84       5     NaN         N\n",
      "42     200    57      6    23   14     14      9    2516    684      46    371   230     195      N        W       69        1       1     NaN         N\n",
      "44     194    40      7    19   29     30     11    4183   1069      64    486   493     608      A        E      325       22       2     NaN         A\n",
      "48     542   140     12    46   75     41     16    7099   2130     235    987  1089     431      A        E      697       61       9     NaN         A\n",
      "52      19     7      0     1    2      1      4      41     13       1      3     4       4      A        E        0        0       0     NaN         A\n",
      "57     235    61      3    24   39     21     14    3926   1029      35    441   401     333      A        E      425       43       4     NaN         A\n",
      "64      24     3      0     1    0      2      3     159     28       0     20    12       9      A        W       80        4       0     NaN         A\n",
      "66     191    37      4    12   17     14      4     773    163      16     61    74      52      N        E      391       38       8     NaN         N\n",
      "69     419   113      1    44   27     44     12    4484   1231      32    612   344     422      A        E      211        2       1     NaN         A\n",
      "71     138    31      8    18   21     38      3     244     53      12     33    32      55      N        E      244       21       4     NaN         N\n",
      "77     195    55      5    24   33     30      8    1313    338      25    144   149     153      N        E       83        2       1     NaN         N\n",
      "80     561   118     35    70   94     33     16    6677   1575     442    901  1210     608      A        W      463       32       8     NaN         A\n",
      "83     227    46      7    23   20     12      5    1325    324      44    156   158      67      A        W       92        2       2     NaN         A\n",
      "94     278    69      3    24   21     29      8    2079    565      32    258   192     162      N        W      142      210      10     NaN         N\n",
      "97     277    71      2    27   29     14     15    5952   1647      60    753   596     259      N        W      360       32       5     NaN         N\n",
      "101    524   132      9    69   47     54      2     972    260      14    123    92      90      A        E      212      327      20     NaN         A\n",
      "103    395   106     16    48   56     35     10    2303    571      86    266   323     248      A        E      709       41       7     NaN         A\n",
      "104    397   114     23    67   67     53     13    5589   1632     241    906   926     716      A        E      244        2       4     NaN         A\n",
      "105    210    37      8    15   19     15      6     994    244      36    107   114      53      A        E       40      115      15     NaN         A\n",
      "106    420    95     23    55   58     37      3     646    139      31     77    77      61      N        W      206       10       7     NaN         N\n",
      "114    284    64     14    30   42     24     18    7023   1925     348    986  1239     666      N        E       96        4       4     NaN         N\n",
      "125    315    59     16    45   36     58     13    4677   1051     268    681   782     697      A        W        0        0       0     NaN         A\n",
      "138    284    69      1    33   18     25      5    1407    361       6    139    98     111      A        E      122      140       5     NaN         N\n",
      "144    209    45      0    38   19     42     10    3859    916      23    557   279     478      A        W      132      205       5     NaN         A\n",
      "150    225    61      5    32   26     26     11    1568    408      25    202   185     257      A        W      132        9       0     NaN         A\n",
      "157    401   100      2    60   19     28      4     876    238       2    126    44      55      N        E      193       11       4     NaN         N\n",
      "158    336    93      9    35   46     23     15    5779   1610     128    730   741     497      A        W        0        0       0     NaN         A\n",
      "160    219    47      8    24   26     17     12    1188    286      23    100   125      63      A        W      260       58       4     NaN         A\n",
      "169    249    69      6    32   19     20      4     702    209      10     97    48      44      N        E      103        8       2     NaN         N\n",
      "171    212    54     13    28   44     18      2     233     59      13     31    46      20      A        E      243       23       5     NaN         A\n",
      "173    161    43      4    17   26     22      3     707    179      21     77    99      76      A        W      300       12       2     NaN         A\n",
      "197    166    34      0    20   13     17      1     166     34       0     20    13      17      N        E       64      119       9     NaN         N\n",
      "199    508   146      8    80   44     46      9    3148    915      41    571   289     326      A        W      245        5       9     NaN         A\n",
      "203    243    53      4    18   26     27      4     853    228      23    101   110      76      N        E      107        3       3     NaN         N\n",
      "208    209    59      6    20   37     27      4     884    209      14     66   106      92      N        E      415       35       3     NaN         N\n",
      "210    317    88      3    40   32     19      8    2543    715      28    269   270     118      A        W      220       16       4     NaN         A\n",
      "225    330    76     12    35   41     47      4    1367    326      55    167   198     167      N        W      512       30       5     NaN         N\n",
      "228    359    84      4    46   27     21     12    4992   1257      37    699   386     387      N        W      151        8       5     NaN         N\n",
      "235    551   160     23    86   90     87      5    2235    602      75    278   328     273      A        W     1224      115      11     NaN         A\n",
      "246    462   119     16    49   65     37      7    2131    583      69    244   288     150      A        E      866       65       6     NaN         A\n",
      "250     33     6      0     2    4      7      1      33      6       0      2     4       7      A        W      205        5       4     NaN         A\n",
      "253    186    44      7    28   16     11      1     186     44       7     28    16      11      N        W       99        3       1     NaN         N\n",
      "254    307    80      1    42   36     29      7    2421    656      18    379   198     184      A        W      145        2       2     NaN         A\n",
      "270    303    84      4    35   32     23      2     312     87       4     39    32      23      N        W      179        5       3     NaN         N\n",
      "283     16     2      0     1    0      0      2      28      4       0      1     0       0      A        E      247        4       8     NaN         A\n",
      "292    289    63      7    36   41     44     17    7402   1954     195   1115   919    1153      A        W      166      211       7     NaN         A\n",
      "298    181    46      1    19   18     17      5     937    238       9     88    95     104      A        E       37       98       9     NaN         A\n",
      "302    200    51      2    14   29     25     23    9778   2732     379   1272  1652     925      N        W      398       29       7     NaN         N\n",
      "305    580   194      9    91   62     78      8    3372   1028      48    604   314     469      N        E      270       13       6     NaN         N\n",
      "316    221    53      2    21   23     22      8    1063    283      15    107   124     106      N        E      325       58       6     NaN         N\n",
      "\n",
      "*********************Exact Observation Units***********************\n",
      "     atbat  hits  hmrun  runs  rbi  walks  years  catbat  chits  chmrun  cruns  crbi  cwalks league division  putouts  assists  errors   salary newleague\n",
      "1      315    81      7    24   38     39     14    3449    835      69    321   414     375      N        W      632       43      10  475.000         N\n",
      "2      479   130     18    66   72     76      3    1624    457      63    224   266     263      A        W      880       82      14  480.000         A\n",
      "3      496   141     20    65   78     37     11    5628   1575     225    828   838     354      N        E      200       11       3  500.000         N\n",
      "4      321    87     10    39   42     30      2     396    101      12     48    46      33      N        E      805       40       4   91.500         N\n",
      "5      594   169      4    74   51     35     11    4408   1133      19    501   336     194      A        W      282      421      25  750.000         A\n",
      "..     ...   ...    ...   ...  ...    ...    ...     ...    ...     ...    ...   ...     ...    ...      ...      ...      ...     ...      ...       ...\n",
      "317    497   127      7    65   48     37      5    2703    806      32    379   311     138      N        E      325        9       3  700.000         N\n",
      "318    492   136      5    76   50     94     12    5511   1511      39    897   451     875      A        E      313      381      20  875.000         A\n",
      "319    475   126      3    61   43     52      6    1700    433       7    217    93     146      A        W       37      113       7  385.000         A\n",
      "320    573   144      9    85   60     78      8    3198    857      97    470   420     332      A        E     1314      131      12  960.000         A\n",
      "321    631   170      9    77   44     31     11    4908   1457      30    775   357     249      A        W      408        4       3 1000.000         A\n",
      "\n",
      "[263 rows x 20 columns]\n",
      "\n",
      "*********************Sorting the missing data in the data set by variables in descending order***********************\n",
      "salary       59\n",
      "atbat         0\n",
      "hits          0\n",
      "errors        0\n",
      "assists       0\n",
      "putouts       0\n",
      "division      0\n",
      "league        0\n",
      "cwalks        0\n",
      "crbi          0\n",
      "cruns         0\n",
      "chmrun        0\n",
      "chits         0\n",
      "catbat        0\n",
      "years         0\n",
      "walks         0\n",
      "rbi           0\n",
      "runs          0\n",
      "hmrun         0\n",
      "newleague     0\n",
      "dtype: int64\n",
      "\n",
      "*********************Calculating the proportion of missing data in the whole data set***********************\n",
      "atbat        0.000\n",
      "hits         0.000\n",
      "hmrun        0.000\n",
      "runs         0.000\n",
      "rbi          0.000\n",
      "walks        0.000\n",
      "years        0.000\n",
      "catbat       0.000\n",
      "chits        0.000\n",
      "chmrun       0.000\n",
      "cruns        0.000\n",
      "crbi         0.000\n",
      "cwalks       0.000\n",
      "league       0.000\n",
      "division     0.000\n",
      "putouts      0.000\n",
      "assists      0.000\n",
      "errors       0.000\n",
      "salary      18.323\n",
      "newleague    0.000\n",
      "dtype: float64\n",
      "\n",
      "*********************Catching only the names of variables with missing value***********************\n",
      "[False, False, False, False, False, False, False, False, False, False, False, False, False, False, False, False, False, False, True, False]\n",
      "\n",
      "*********************Descriptive Statistics***********************\n",
      "          count     mean      std    min      5%     10%     25%      40%      50%      75%      90%      95%      99%       max\n",
      "atbat   322.000  380.929  153.405 16.000 161.000 194.100 255.250  321.800  379.500  512.000  584.900  609.900  658.590   687.000\n",
      "hits    322.000  101.025   46.455  1.000  39.000  45.100  64.000   82.000   96.000  137.000  163.000  174.000  210.790   238.000\n",
      "hmrun   322.000   10.770    8.709  0.000   0.000   1.000   4.000    6.000    8.000   16.000   24.000   28.950   33.000    40.000\n",
      "runs    322.000   50.910   26.024  0.000  17.000  20.100  30.250   41.000   48.000   69.000   89.000   94.000  107.790   130.000\n",
      "rbi     322.000   48.028   26.167  0.000  14.000  19.000  28.000   36.400   44.000   64.750   86.000   96.000  112.370   121.000\n",
      "walks   322.000   38.742   21.639  0.000  11.050  15.000  22.000   30.000   35.000   53.000   69.900   78.000   93.580   105.000\n",
      "years   322.000    7.444    4.926  1.000   1.000   2.000   4.000    5.000    6.000   11.000   15.000   17.000   19.790    24.000\n",
      "catbat  322.000 2648.683 2324.206 19.000 216.500 342.200 816.750 1402.200 1928.000 3924.250 6123.400 7125.600 8749.970 14053.000\n",
      "chits   322.000  717.571  654.473  4.000  54.000  86.000 209.000  355.800  508.000 1059.250 1659.600 2017.150 2500.340  4256.000\n",
      "chmrun  322.000   69.491   86.266  0.000   2.000   4.000  14.000   27.400   37.500   90.000  194.900  265.650  373.120   548.000\n",
      "cruns   322.000  358.795  334.106  1.000  27.000  38.100 100.250  181.000  247.000  526.250  895.700 1032.300 1174.370  2165.000\n",
      "crbi    322.000  330.118  333.220  0.000  22.050  34.100  88.750  149.000  220.500  426.250  861.600 1071.750 1310.850  1659.000\n",
      "cwalks  322.000  260.239  267.058  0.000  15.050  30.100  67.250  117.400  170.500  339.250  643.900  817.600 1139.140  1566.000\n",
      "putouts 322.000  288.938  280.705  0.000  33.200  62.200 109.250  167.000  212.000  325.000  685.600  910.650 1301.190  1378.000\n",
      "assists 322.000  106.913  136.855  0.000   0.000   2.000   7.000   15.400   39.500  166.000  353.300  431.450  478.160   492.000\n",
      "errors  322.000    8.040    6.368  0.000   0.000   1.000   3.000    5.000    6.000   11.000   17.000   20.000   25.790    32.000\n",
      "salary  263.000  535.926  451.119 67.500  86.600 100.000 190.000  300.000  425.000  750.000 1048.667 1346.000 2032.887  2460.000\n"
     ]
    }
   ],
   "source": [
    "def check_df(dataframe, head = 5, tail = 5):\n",
    "    print('*********************Head***********************')\n",
    "    print(dataframe.head(head))\n",
    "    print('\\n*********************Tail***********************')\n",
    "    print(dataframe.tail(tail))\n",
    "    print('\\n*********************Shape***********************')\n",
    "    print(dataframe.shape)\n",
    "    print('\\n*********************Columns***********************')\n",
    "    print(dataframe.columns)\n",
    "    print('\\n*********************Info***********************')\n",
    "    print(dataframe.info())\n",
    "    print('\\n*********************Number Unique***********************')\n",
    "    print(dataframe.nunique())\n",
    "    print('\\n*********************Index***********************')\n",
    "    print(dataframe.index)\n",
    "    print('\\n*********************Missing Values in Variables***********************')\n",
    "    print(dataframe.isnull().sum())\n",
    "    print('\\n*********************Missing Values or Not***********************')\n",
    "    print(dataframe.isnull().values.any())\n",
    "    print('\\n*********************Sum Missing Values in Variables***********************')\n",
    "    print(dataframe.isnull().sum().sum())\n",
    "    print('\\n*********************Not Null Numbers in Variables***********************')\n",
    "    print(dataframe.notnull().sum())\n",
    "    print('\\n*********************Observation units with at least 1 missing value***********************')\n",
    "    print(dataframe[dataframe.isnull().any(axis = 1)])\n",
    "    print('\\n*********************Exact Observation Units***********************')\n",
    "    print(dataframe[dataframe.notnull().all(axis = 1)])\n",
    "    print('\\n*********************Sorting the missing data in the data set by variables in descending order***********************')\n",
    "    print(dataframe.isnull().sum().sort_values(ascending = False))\n",
    "    print('\\n*********************Calculating the proportion of missing data in the whole data set***********************')\n",
    "    print(dataframe.isnull().sum()/dataframe.shape[0] * 100)\n",
    "    print('\\n*********************Catching only the names of variables with missing value***********************')\n",
    "    print([col for col in dataframe.isnull().sum() > 0])\n",
    "    print('\\n*********************Descriptive Statistics***********************')\n",
    "    quantiles = [0.05, 0.10, 0.25, 0.40, 0.50, 0.75, 0.90, 0.95, 0.99]\n",
    "    print(dataframe.describe(quantiles).T)\n",
    "\n",
    "check_df(df)"
   ]
  },
  {
   "cell_type": "markdown",
   "metadata": {},
   "source": [
    "### **Capturing variables and performing operations**"
   ]
  },
  {
   "cell_type": "code",
   "execution_count": 485,
   "metadata": {},
   "outputs": [
    {
     "name": "stdout",
     "output_type": "stream",
     "text": [
      "Observations : 322\n",
      "Variables: 20\n",
      "Number of categoric columns: 3\n",
      "Number of numeric columns: 17\n",
      "Number of categoric but cardinal columns: 0\n",
      "Number of numeric but categoric columns: 0\n"
     ]
    }
   ],
   "source": [
    "def grab_col_names(dataframe, cat_th = 10, car_th = 20):\n",
    "\n",
    "    # Catching categoric columns\n",
    "    cat_cols = [col for col in dataframe.columns if dataframe[col].dtypes in ['category', 'object', 'bool']]\n",
    "    num_but_cat = [col for col in dataframe.columns if dataframe[col].nunique() < cat_th and dataframe[col].dtypes in ['int64', 'float64']]\n",
    "    cat_but_car = [col for col in dataframe.columns if dataframe[col].nunique() > car_th and dataframe[col].dtypes in ['category', 'object', 'bool']]\n",
    "    cat_cols = cat_cols + num_but_cat\n",
    "    cat_cols = [col for col in cat_cols if col not in cat_but_car]\n",
    "\n",
    "    # Catching numeric columns\n",
    "    num_cols = [col for col in dataframe.columns if dataframe[col].dtypes in ['int64', 'float64']]\n",
    "    num_cols = [col for col in num_cols if col not in cat_cols]\n",
    "\n",
    "    # Reporting section\n",
    "    print(f'Observations : {dataframe.shape[0]}')\n",
    "    print(f'Variables: {dataframe.shape[1]}')\n",
    "    print(f'Number of categoric columns: {len(cat_cols)}')\n",
    "    print(f'Number of numeric columns: {len(num_cols)}')\n",
    "    print(f'Number of categoric but cardinal columns: {len(cat_but_car)}')\n",
    "    print(f'Number of numeric but categoric columns: {len(num_but_cat)}')\n",
    "\n",
    "    return cat_cols, num_cols, cat_but_car\n",
    "\n",
    "cat_cols, num_cols, cat_but_car = grab_col_names(df)"
   ]
  },
  {
   "cell_type": "markdown",
   "metadata": {},
   "source": [
    "### **Summary function for categorical columns**"
   ]
  },
  {
   "cell_type": "code",
   "execution_count": 486,
   "metadata": {},
   "outputs": [
    {
     "name": "stdout",
     "output_type": "stream",
     "text": [
      "   league  ratio\n",
      "A     175 54.348\n",
      "N     147 45.652\n"
     ]
    },
    {
     "data": {
      "image/png": "[encoded data removed]",
      "text/plain": [
       "<Figure size 576x288 with 1 Axes>"
      ]
     },
     "metadata": {},
     "output_type": "display_data"
    },
    {
     "name": "stdout",
     "output_type": "stream",
     "text": [
      "   division  ratio\n",
      "W       165 51.242\n",
      "E       157 48.758\n"
     ]
    },
    {
     "data": {
      "image/png": "[encoded data removed]",
      "text/plain": [
       "<Figure size 576x288 with 1 Axes>"
      ]
     },
     "metadata": {},
     "output_type": "display_data"
    },
    {
     "name": "stdout",
     "output_type": "stream",
     "text": [
      "   newleague  ratio\n",
      "A        176 54.658\n",
      "N        146 45.342\n"
     ]
    },
    {
     "data": {
      "image/png": "[encoded data removed]",
      "text/plain": [
       "<Figure size 576x288 with 1 Axes>"
      ]
     },
     "metadata": {},
     "output_type": "display_data"
    }
   ],
   "source": [
    "def cat_summary(dataframe, col_name, plot = False):\n",
    "    print(pd.DataFrame({\n",
    "        col_name: dataframe[col_name].value_counts(),\n",
    "        'ratio': 100 * dataframe[col_name].value_counts()/len(dataframe)\n",
    "    }))\n",
    "\n",
    "    if plot:\n",
    "        plt.figure(figsize = (8, 4))\n",
    "        sns.countplot(x = dataframe[col_name])\n",
    "        plt.show(block = True)\n",
    "\n",
    "for col in cat_cols:\n",
    "    cat_summary(df, col, True)"
   ]
  },
  {
   "cell_type": "markdown",
   "metadata": {},
   "source": [
    "### **Summary function for numerical columns**"
   ]
  },
  {
   "cell_type": "code",
   "execution_count": 487,
   "metadata": {},
   "outputs": [
    {
     "name": "stdout",
     "output_type": "stream",
     "text": [
      "\n",
      "******************-atbat-****************\n",
      "count   322.000\n",
      "mean    380.929\n",
      "std     153.405\n",
      "min      16.000\n",
      "5%      161.000\n",
      "10%     194.100\n",
      "25%     255.250\n",
      "50%     379.500\n",
      "75%     512.000\n",
      "90%     584.900\n",
      "99%     658.590\n",
      "max     687.000\n",
      "Name: atbat, dtype: float64\n"
     ]
    },
    {
     "data": {
      "image/png": "[encoded data removed]",
      "text/plain": [
       "<Figure size 864x288 with 2 Axes>"
      ]
     },
     "metadata": {},
     "output_type": "display_data"
    },
    {
     "name": "stdout",
     "output_type": "stream",
     "text": [
      "\n",
      "******************-hits-****************\n",
      "count   322.000\n",
      "mean    101.025\n",
      "std      46.455\n",
      "min       1.000\n",
      "5%       39.000\n",
      "10%      45.100\n",
      "25%      64.000\n",
      "50%      96.000\n",
      "75%     137.000\n",
      "90%     163.000\n",
      "99%     210.790\n",
      "max     238.000\n",
      "Name: hits, dtype: float64\n"
     ]
    },
    {
     "data": {
      "image/png": "[encoded data removed]",
      "text/plain": [
       "<Figure size 864x288 with 2 Axes>"
      ]
     },
     "metadata": {},
     "output_type": "display_data"
    },
    {
     "name": "stdout",
     "output_type": "stream",
     "text": [
      "\n",
      "******************-hmrun-****************\n",
      "count   322.000\n",
      "mean     10.770\n",
      "std       8.709\n",
      "min       0.000\n",
      "5%        0.000\n",
      "10%       1.000\n",
      "25%       4.000\n",
      "50%       8.000\n",
      "75%      16.000\n",
      "90%      24.000\n",
      "99%      33.000\n",
      "max      40.000\n",
      "Name: hmrun, dtype: float64\n"
     ]
    },
    {
     "data": {
      "image/png": "[encoded data removed]",
      "text/plain": [
       "<Figure size 864x288 with 2 Axes>"
      ]
     },
     "metadata": {},
     "output_type": "display_data"
    },
    {
     "name": "stdout",
     "output_type": "stream",
     "text": [
      "\n",
      "******************-runs-****************\n",
      "count   322.000\n",
      "mean     50.910\n",
      "std      26.024\n",
      "min       0.000\n",
      "5%       17.000\n",
      "10%      20.100\n",
      "25%      30.250\n",
      "50%      48.000\n",
      "75%      69.000\n",
      "90%      89.000\n",
      "99%     107.790\n",
      "max     130.000\n",
      "Name: runs, dtype: float64\n"
     ]
    },
    {
     "data": {
      "image/png": "[encoded data removed]",
      "text/plain": [
       "<Figure size 864x288 with 2 Axes>"
      ]
     },
     "metadata": {},
     "output_type": "display_data"
    },
    {
     "name": "stdout",
     "output_type": "stream",
     "text": [
      "\n",
      "******************-rbi-****************\n",
      "count   322.000\n",
      "mean     48.028\n",
      "std      26.167\n",
      "min       0.000\n",
      "5%       14.000\n",
      "10%      19.000\n",
      "25%      28.000\n",
      "50%      44.000\n",
      "75%      64.750\n",
      "90%      86.000\n",
      "99%     112.370\n",
      "max     121.000\n",
      "Name: rbi, dtype: float64\n"
     ]
    },
    {
     "data": {
      "image/png": "[encoded data removed]",
      "text/plain": [
       "<Figure size 864x288 with 2 Axes>"
      ]
     },
     "metadata": {},
     "output_type": "display_data"
    },
    {
     "name": "stdout",
     "output_type": "stream",
     "text": [
      "\n",
      "******************-walks-****************\n",
      "count   322.000\n",
      "mean     38.742\n",
      "std      21.639\n",
      "min       0.000\n",
      "5%       11.050\n",
      "10%      15.000\n",
      "25%      22.000\n",
      "50%      35.000\n",
      "75%      53.000\n",
      "90%      69.900\n",
      "99%      93.580\n",
      "max     105.000\n",
      "Name: walks, dtype: float64\n"
     ]
    },
    {
     "data": {
      "image/png": "[encoded data removed]",
      "text/plain": [
       "<Figure size 864x288 with 2 Axes>"
      ]
     },
     "metadata": {},
     "output_type": "display_data"
    },
    {
     "name": "stdout",
     "output_type": "stream",
     "text": [
      "\n",
      "******************-years-****************\n",
      "count   322.000\n",
      "mean      7.444\n",
      "std       4.926\n",
      "min       1.000\n",
      "5%        1.000\n",
      "10%       2.000\n",
      "25%       4.000\n",
      "50%       6.000\n",
      "75%      11.000\n",
      "90%      15.000\n",
      "99%      19.790\n",
      "max      24.000\n",
      "Name: years, dtype: float64\n"
     ]
    },
    {
     "data": {
      "image/png": "[encoded data removed]",
      "text/plain": [
       "<Figure size 864x288 with 2 Axes>"
      ]
     },
     "metadata": {},
     "output_type": "display_data"
    },
    {
     "name": "stdout",
     "output_type": "stream",
     "text": [
      "\n",
      "******************-catbat-****************\n",
      "count     322.000\n",
      "mean     2648.683\n",
      "std      2324.206\n",
      "min        19.000\n",
      "5%        216.500\n",
      "10%       342.200\n",
      "25%       816.750\n",
      "50%      1928.000\n",
      "75%      3924.250\n",
      "90%      6123.400\n",
      "99%      8749.970\n",
      "max     14053.000\n",
      "Name: catbat, dtype: float64\n"
     ]
    },
    {
     "data": {
      "image/png": "[encoded data removed]",
      "text/plain": [
       "<Figure size 864x288 with 2 Axes>"
      ]
     },
     "metadata": {},
     "output_type": "display_data"
    },
    {
     "name": "stdout",
     "output_type": "stream",
     "text": [
      "\n",
      "******************-chits-****************\n",
      "count    322.000\n",
      "mean     717.571\n",
      "std      654.473\n",
      "min        4.000\n",
      "5%        54.000\n",
      "10%       86.000\n",
      "25%      209.000\n",
      "50%      508.000\n",
      "75%     1059.250\n",
      "90%     1659.600\n",
      "99%     2500.340\n",
      "max     4256.000\n",
      "Name: chits, dtype: float64\n"
     ]
    },
    {
     "data": {
      "image/png": "[encoded data removed]",
      "text/plain": [
       "<Figure size 864x288 with 2 Axes>"
      ]
     },
     "metadata": {},
     "output_type": "display_data"
    },
    {
     "name": "stdout",
     "output_type": "stream",
     "text": [
      "\n",
      "******************-chmrun-****************\n",
      "count   322.000\n",
      "mean     69.491\n",
      "std      86.266\n",
      "min       0.000\n",
      "5%        2.000\n",
      "10%       4.000\n",
      "25%      14.000\n",
      "50%      37.500\n",
      "75%      90.000\n",
      "90%     194.900\n",
      "99%     373.120\n",
      "max     548.000\n",
      "Name: chmrun, dtype: float64\n"
     ]
    },
    {
     "data": {
      "image/png": "[encoded data removed]",
      "text/plain": [
       "<Figure size 864x288 with 2 Axes>"
      ]
     },
     "metadata": {},
     "output_type": "display_data"
    },
    {
     "name": "stdout",
     "output_type": "stream",
     "text": [
      "\n",
      "******************-cruns-****************\n",
      "count    322.000\n",
      "mean     358.795\n",
      "std      334.106\n",
      "min        1.000\n",
      "5%        27.000\n",
      "10%       38.100\n",
      "25%      100.250\n",
      "50%      247.000\n",
      "75%      526.250\n",
      "90%      895.700\n",
      "99%     1174.370\n",
      "max     2165.000\n",
      "Name: cruns, dtype: float64\n"
     ]
    },
    {
     "data": {
      "image/png": "[encoded data removed]",
      "text/plain": [
       "<Figure size 864x288 with 2 Axes>"
      ]
     },
     "metadata": {},
     "output_type": "display_data"
    },
    {
     "name": "stdout",
     "output_type": "stream",
     "text": [
      "\n",
      "******************-crbi-****************\n",
      "count    322.000\n",
      "mean     330.118\n",
      "std      333.220\n",
      "min        0.000\n",
      "5%        22.050\n",
      "10%       34.100\n",
      "25%       88.750\n",
      "50%      220.500\n",
      "75%      426.250\n",
      "90%      861.600\n",
      "99%     1310.850\n",
      "max     1659.000\n",
      "Name: crbi, dtype: float64\n"
     ]
    },
    {
     "data": {
      "image/png": "[encoded data removed]",
      "text/plain": [
       "<Figure size 864x288 with 2 Axes>"
      ]
     },
     "metadata": {},
     "output_type": "display_data"
    },
    {
     "name": "stdout",
     "output_type": "stream",
     "text": [
      "\n",
      "******************-cwalks-****************\n",
      "count    322.000\n",
      "mean     260.239\n",
      "std      267.058\n",
      "min        0.000\n",
      "5%        15.050\n",
      "10%       30.100\n",
      "25%       67.250\n",
      "50%      170.500\n",
      "75%      339.250\n",
      "90%      643.900\n",
      "99%     1139.140\n",
      "max     1566.000\n",
      "Name: cwalks, dtype: float64\n"
     ]
    },
    {
     "data": {
      "image/png": "[encoded data removed]",
      "text/plain": [
       "<Figure size 864x288 with 2 Axes>"
      ]
     },
     "metadata": {},
     "output_type": "display_data"
    },
    {
     "name": "stdout",
     "output_type": "stream",
     "text": [
      "\n",
      "******************-putouts-****************\n",
      "count    322.000\n",
      "mean     288.938\n",
      "std      280.705\n",
      "min        0.000\n",
      "5%        33.200\n",
      "10%       62.200\n",
      "25%      109.250\n",
      "50%      212.000\n",
      "75%      325.000\n",
      "90%      685.600\n",
      "99%     1301.190\n",
      "max     1378.000\n",
      "Name: putouts, dtype: float64\n"
     ]
    },
    {
     "data": {
      "image/png": "[encoded data removed]",
      "text/plain": [
       "<Figure size 864x288 with 2 Axes>"
      ]
     },
     "metadata": {},
     "output_type": "display_data"
    },
    {
     "name": "stdout",
     "output_type": "stream",
     "text": [
      "\n",
      "******************-assists-****************\n",
      "count   322.000\n",
      "mean    106.913\n",
      "std     136.855\n",
      "min       0.000\n",
      "5%        0.000\n",
      "10%       2.000\n",
      "25%       7.000\n",
      "50%      39.500\n",
      "75%     166.000\n",
      "90%     353.300\n",
      "99%     478.160\n",
      "max     492.000\n",
      "Name: assists, dtype: float64\n"
     ]
    },
    {
     "data": {
      "image/png": "[encoded data removed]",
      "text/plain": [
       "<Figure size 864x288 with 2 Axes>"
      ]
     },
     "metadata": {},
     "output_type": "display_data"
    },
    {
     "name": "stdout",
     "output_type": "stream",
     "text": [
      "\n",
      "******************-errors-****************\n",
      "count   322.000\n",
      "mean      8.040\n",
      "std       6.368\n",
      "min       0.000\n",
      "5%        0.000\n",
      "10%       1.000\n",
      "25%       3.000\n",
      "50%       6.000\n",
      "75%      11.000\n",
      "90%      17.000\n",
      "99%      25.790\n",
      "max      32.000\n",
      "Name: errors, dtype: float64\n"
     ]
    },
    {
     "data": {
      "image/png": "[encoded data removed]",
      "text/plain": [
       "<Figure size 864x288 with 2 Axes>"
      ]
     },
     "metadata": {},
     "output_type": "display_data"
    },
    {
     "name": "stdout",
     "output_type": "stream",
     "text": [
      "\n",
      "******************-salary-****************\n",
      "count    263.000\n",
      "mean     535.926\n",
      "std      451.119\n",
      "min       67.500\n",
      "5%        86.600\n",
      "10%      100.000\n",
      "25%      190.000\n",
      "50%      425.000\n",
      "75%      750.000\n",
      "90%     1048.667\n",
      "99%     2032.887\n",
      "max     2460.000\n",
      "Name: salary, dtype: float64\n"
     ]
    },
    {
     "data": {
      "image/png": "[encoded data removed]",
      "text/plain": [
       "<Figure size 864x288 with 2 Axes>"
      ]
     },
     "metadata": {},
     "output_type": "display_data"
    }
   ],
   "source": [
    "def num_summary(dataframe, col_name, plot = False):\n",
    "    quantiles = [0.05, 0.10, 0.25, 0.50, 0.75, 0.90, 0.99]\n",
    "    print(dataframe[col_name].describe(quantiles).T)\n",
    "\n",
    "    if plot:\n",
    "        plt.figure(figsize = (12, 4))\n",
    "        plt.subplot(1, 2, 1)\n",
    "        sns.histplot(x = dataframe[col_name])\n",
    "        plt.subplot(1, 2, 2)\n",
    "        sns.boxplot(x = dataframe[col_name])\n",
    "        plt.show()\n",
    "\n",
    "for col in num_cols:\n",
    "    print(f'\\n******************-{col}-****************')\n",
    "    num_summary(df, col, True)"
   ]
  },
  {
   "cell_type": "markdown",
   "metadata": {},
   "source": [
    "### **Analyzing the dependent variable to categorical variables**"
   ]
  },
  {
   "cell_type": "code",
   "execution_count": 488,
   "metadata": {},
   "outputs": [
    {
     "name": "stdout",
     "output_type": "stream",
     "text": [
      "\n",
      "***************-LEAGUE-***************\n",
      "        Target_Mean\n",
      "league             \n",
      "A           542.000\n",
      "N           529.118\n"
     ]
    },
    {
     "data": {
      "image/png": "[encoded data removed]",
      "text/plain": [
       "<Figure size 576x288 with 1 Axes>"
      ]
     },
     "metadata": {},
     "output_type": "display_data"
    },
    {
     "name": "stdout",
     "output_type": "stream",
     "text": [
      "\n",
      "***************-DIVISION-***************\n",
      "          Target_Mean\n",
      "division             \n",
      "E             624.271\n",
      "W             450.877\n"
     ]
    },
    {
     "data": {
      "image/png": "[encoded data removed]",
      "text/plain": [
       "<Figure size 576x288 with 1 Axes>"
      ]
     },
     "metadata": {},
     "output_type": "display_data"
    },
    {
     "name": "stdout",
     "output_type": "stream",
     "text": [
      "\n",
      "***************-NEWLEAGUE-***************\n",
      "           Target_Mean\n",
      "newleague             \n",
      "A              537.113\n",
      "N              534.554\n"
     ]
    },
    {
     "data": {
      "image/png": "[encoded data removed]",
      "text/plain": [
       "<Figure size 576x288 with 1 Axes>"
      ]
     },
     "metadata": {},
     "output_type": "display_data"
    }
   ],
   "source": [
    "def target_summary_with_cat(dataframe, target, col_name, plot = False):\n",
    "    print(pd.DataFrame({\n",
    "        'Target_Mean': dataframe.groupby(col_name)[target].mean()\n",
    "        }))\n",
    "    \n",
    "    if plot:\n",
    "        plt.figure(figsize = (8, 4))\n",
    "        sns.countplot(x = dataframe[col_name])\n",
    "        plt.show(block = True)\n",
    "\n",
    "for col in cat_cols:\n",
    "    print(f'\\n***************-{col.upper()}-***************')\n",
    "    target_summary_with_cat(df, 'salary', col, True)"
   ]
  },
  {
   "cell_type": "markdown",
   "metadata": {},
   "source": [
    "### **Analyzing the dependent variable to numerical variables**"
   ]
  },
  {
   "cell_type": "code",
   "execution_count": 489,
   "metadata": {},
   "outputs": [
    {
     "name": "stdout",
     "output_type": "stream",
     "text": [
      "\n",
      "***************-ATBAT-***************\n",
      "          Target_Mean\n",
      "salary               \n",
      "67.500        181.000\n",
      "68.000        209.000\n",
      "70.000        248.600\n",
      "75.000        236.400\n",
      "80.000        399.000\n",
      "...               ...\n",
      "1940.000      514.000\n",
      "1975.000      677.000\n",
      "2127.333       20.000\n",
      "2412.500      618.000\n",
      "2460.000      495.000\n",
      "\n",
      "[150 rows x 1 columns]\n"
     ]
    },
    {
     "data": {
      "image/png": "[encoded data removed]",
      "text/plain": [
       "<Figure size 864x432 with 1 Axes>"
      ]
     },
     "metadata": {},
     "output_type": "display_data"
    },
    {
     "name": "stdout",
     "output_type": "stream",
     "text": [
      "\n",
      "***************-HITS-***************\n",
      "          Target_Mean\n",
      "salary               \n",
      "67.500         41.000\n",
      "68.000         54.000\n",
      "70.000         57.400\n",
      "75.000         58.200\n",
      "80.000        102.000\n",
      "...               ...\n",
      "1940.000      144.000\n",
      "1975.000      238.000\n",
      "2127.333        1.000\n",
      "2412.500      200.000\n",
      "2460.000      151.000\n",
      "\n",
      "[150 rows x 1 columns]\n"
     ]
    },
    {
     "data": {
      "image/png": "[encoded data removed]",
      "text/plain": [
       "<Figure size 864x432 with 1 Axes>"
      ]
     },
     "metadata": {},
     "output_type": "display_data"
    },
    {
     "name": "stdout",
     "output_type": "stream",
     "text": [
      "\n",
      "***************-HMRUN-***************\n",
      "          Target_Mean\n",
      "salary               \n",
      "67.500          1.000\n",
      "68.000          3.000\n",
      "70.000          3.200\n",
      "75.000          3.000\n",
      "80.000          3.000\n",
      "...               ...\n",
      "1940.000        0.000\n",
      "1975.000       31.000\n",
      "2127.333        0.000\n",
      "2412.500       20.000\n",
      "2460.000       17.000\n",
      "\n",
      "[150 rows x 1 columns]\n"
     ]
    },
    {
     "data": {
      "image/png": "[encoded data removed]",
      "text/plain": [
       "<Figure size 864x432 with 1 Axes>"
      ]
     },
     "metadata": {},
     "output_type": "display_data"
    },
    {
     "name": "stdout",
     "output_type": "stream",
     "text": [
      "\n",
      "***************-RUNS-***************\n",
      "          Target_Mean\n",
      "salary               \n",
      "67.500         15.000\n",
      "68.000         25.000\n",
      "70.000         27.800\n",
      "75.000         25.200\n",
      "80.000         56.000\n",
      "...               ...\n",
      "1940.000       67.000\n",
      "1975.000      117.000\n",
      "2127.333        0.000\n",
      "2412.500       98.000\n",
      "2460.000       61.000\n",
      "\n",
      "[150 rows x 1 columns]\n"
     ]
    },
    {
     "data": {
      "image/png": "[encoded data removed]",
      "text/plain": [
       "<Figure size 864x432 with 1 Axes>"
      ]
     },
     "metadata": {},
     "output_type": "display_data"
    },
    {
     "name": "stdout",
     "output_type": "stream",
     "text": [
      "\n",
      "***************-RBI-***************\n",
      "          Target_Mean\n",
      "salary               \n",
      "67.500         21.000\n",
      "68.000         14.000\n",
      "70.000         22.400\n",
      "75.000         22.800\n",
      "80.000         34.000\n",
      "...               ...\n",
      "1940.000       54.000\n",
      "1975.000      113.000\n",
      "2127.333        0.000\n",
      "2412.500      110.000\n",
      "2460.000       84.000\n",
      "\n",
      "[150 rows x 1 columns]\n"
     ]
    },
    {
     "data": {
      "image/png": "[encoded data removed]",
      "text/plain": [
       "<Figure size 864x432 with 1 Axes>"
      ]
     },
     "metadata": {},
     "output_type": "display_data"
    },
    {
     "name": "stdout",
     "output_type": "stream",
     "text": [
      "\n",
      "***************-WALKS-***************\n",
      "          Target_Mean\n",
      "salary               \n",
      "67.500         33.000\n",
      "68.000         12.000\n",
      "70.000         22.200\n",
      "75.000         21.600\n",
      "80.000         34.000\n",
      "...               ...\n",
      "1940.000       79.000\n",
      "1975.000       53.000\n",
      "2127.333        0.000\n",
      "2412.500       62.000\n",
      "2460.000       78.000\n",
      "\n",
      "[150 rows x 1 columns]\n"
     ]
    },
    {
     "data": {
      "image/png": "[encoded data removed]",
      "text/plain": [
       "<Figure size 864x432 with 1 Axes>"
      ]
     },
     "metadata": {},
     "output_type": "display_data"
    },
    {
     "name": "stdout",
     "output_type": "stream",
     "text": [
      "\n",
      "***************-YEARS-***************\n",
      "          Target_Mean\n",
      "salary               \n",
      "67.500          2.000\n",
      "68.000          1.000\n",
      "70.000          1.400\n",
      "75.000          2.000\n",
      "80.000          5.000\n",
      "...               ...\n",
      "1940.000        9.000\n",
      "1975.000        5.000\n",
      "2127.333        2.000\n",
      "2412.500       13.000\n",
      "2460.000       10.000\n",
      "\n",
      "[150 rows x 1 columns]\n"
     ]
    },
    {
     "data": {
      "image/png": "[encoded data removed]",
      "text/plain": [
       "<Figure size 864x432 with 1 Axes>"
      ]
     },
     "metadata": {},
     "output_type": "display_data"
    },
    {
     "name": "stdout",
     "output_type": "stream",
     "text": [
      "\n",
      "***************-CATBAT-***************\n",
      "          Target_Mean\n",
      "salary               \n",
      "67.500        232.000\n",
      "68.000        209.000\n",
      "70.000        256.800\n",
      "75.000        309.200\n",
      "80.000        670.000\n",
      "...               ...\n",
      "1940.000     4739.000\n",
      "1975.000     2223.000\n",
      "2127.333       41.000\n",
      "2412.500     7127.000\n",
      "2460.000     5624.000\n",
      "\n",
      "[150 rows x 1 columns]\n"
     ]
    },
    {
     "data": {
      "image/png": "[encoded data removed]",
      "text/plain": [
       "<Figure size 864x432 with 1 Axes>"
      ]
     },
     "metadata": {},
     "output_type": "display_data"
    },
    {
     "name": "stdout",
     "output_type": "stream",
     "text": [
      "\n",
      "***************-CHITS-***************\n",
      "          Target_Mean\n",
      "salary               \n",
      "67.500         50.000\n",
      "68.000         54.000\n",
      "70.000         59.600\n",
      "75.000         73.600\n",
      "80.000        167.000\n",
      "...               ...\n",
      "1940.000     1169.000\n",
      "1975.000      737.000\n",
      "2127.333        9.000\n",
      "2412.500     2163.000\n",
      "2460.000     1679.000\n",
      "\n",
      "[150 rows x 1 columns]\n"
     ]
    },
    {
     "data": {
      "image/png": "[encoded data removed]",
      "text/plain": [
       "<Figure size 864x432 with 1 Axes>"
      ]
     },
     "metadata": {},
     "output_type": "display_data"
    },
    {
     "name": "stdout",
     "output_type": "stream",
     "text": [
      "\n",
      "***************-CHMRUN-***************\n",
      "          Target_Mean\n",
      "salary               \n",
      "67.500          4.000\n",
      "68.000          3.000\n",
      "70.000          3.200\n",
      "75.000          3.600\n",
      "80.000          4.000\n",
      "...               ...\n",
      "1940.000       13.000\n",
      "1975.000       93.000\n",
      "2127.333        2.000\n",
      "2412.500      351.000\n",
      "2460.000      275.000\n",
      "\n",
      "[150 rows x 1 columns]\n"
     ]
    },
    {
     "data": {
      "image/png": "[encoded data removed]",
      "text/plain": [
       "<Figure size 864x432 with 1 Axes>"
      ]
     },
     "metadata": {},
     "output_type": "display_data"
    },
    {
     "name": "stdout",
     "output_type": "stream",
     "text": [
      "\n",
      "***************-CRUNS-***************\n",
      "          Target_Mean\n",
      "salary               \n",
      "67.500         20.000\n",
      "68.000         25.000\n",
      "70.000         29.600\n",
      "75.000         33.000\n",
      "80.000         89.000\n",
      "...               ...\n",
      "1940.000      583.000\n",
      "1975.000      349.000\n",
      "2127.333        6.000\n",
      "2412.500     1104.000\n",
      "2460.000      884.000\n",
      "\n",
      "[150 rows x 1 columns]\n"
     ]
    },
    {
     "data": {
      "image/png": "[encoded data removed]",
      "text/plain": [
       "<Figure size 864x432 with 1 Axes>"
      ]
     },
     "metadata": {},
     "output_type": "display_data"
    },
    {
     "name": "stdout",
     "output_type": "stream",
     "text": [
      "\n",
      "***************-CRBI-***************\n",
      "          Target_Mean\n",
      "salary               \n",
      "67.500         29.000\n",
      "68.000         14.000\n",
      "70.000         23.200\n",
      "75.000         27.000\n",
      "80.000         48.000\n",
      "...               ...\n",
      "1940.000      374.000\n",
      "1975.000      401.000\n",
      "2127.333        7.000\n",
      "2412.500     1289.000\n",
      "2460.000     1015.000\n",
      "\n",
      "[150 rows x 1 columns]\n"
     ]
    },
    {
     "data": {
      "image/png": "[encoded data removed]",
      "text/plain": [
       "<Figure size 864x432 with 1 Axes>"
      ]
     },
     "metadata": {},
     "output_type": "display_data"
    },
    {
     "name": "stdout",
     "output_type": "stream",
     "text": [
      "\n",
      "***************-CWALKS-***************\n",
      "          Target_Mean\n",
      "salary               \n",
      "67.500         45.000\n",
      "68.000         12.000\n",
      "70.000         23.600\n",
      "75.000         25.600\n",
      "80.000         54.000\n",
      "...               ...\n",
      "1940.000      528.000\n",
      "1975.000      171.000\n",
      "2127.333        4.000\n",
      "2412.500      564.000\n",
      "2460.000      709.000\n",
      "\n",
      "[150 rows x 1 columns]\n"
     ]
    },
    {
     "data": {
      "image/png": "[encoded data removed]",
      "text/plain": [
       "<Figure size 864x432 with 1 Axes>"
      ]
     },
     "metadata": {},
     "output_type": "display_data"
    },
    {
     "name": "stdout",
     "output_type": "stream",
     "text": [
      "\n",
      "***************-PUTOUTS-***************\n",
      "          Target_Mean\n",
      "salary               \n",
      "67.500        326.000\n",
      "68.000        102.000\n",
      "70.000         86.400\n",
      "75.000        210.200\n",
      "80.000        211.000\n",
      "...               ...\n",
      "1940.000      229.000\n",
      "1975.000     1377.000\n",
      "2127.333       78.000\n",
      "2412.500      330.000\n",
      "2460.000     1045.000\n",
      "\n",
      "[150 rows x 1 columns]\n"
     ]
    },
    {
     "data": {
      "image/png": "[encoded data removed]",
      "text/plain": [
       "<Figure size 864x432 with 1 Axes>"
      ]
     },
     "metadata": {},
     "output_type": "display_data"
    },
    {
     "name": "stdout",
     "output_type": "stream",
     "text": [
      "\n",
      "***************-ASSISTS-***************\n",
      "          Target_Mean\n",
      "salary               \n",
      "67.500         29.000\n",
      "68.000          6.000\n",
      "70.000         82.200\n",
      "75.000        110.600\n",
      "80.000          9.000\n",
      "...               ...\n",
      "1940.000      453.000\n",
      "1975.000      100.000\n",
      "2127.333      220.000\n",
      "2412.500       16.000\n",
      "2460.000       88.000\n",
      "\n",
      "[150 rows x 1 columns]\n"
     ]
    },
    {
     "data": {
      "image/png": "[encoded data removed]",
      "text/plain": [
       "<Figure size 864x432 with 1 Axes>"
      ]
     },
     "metadata": {},
     "output_type": "display_data"
    },
    {
     "name": "stdout",
     "output_type": "stream",
     "text": [
      "\n",
      "***************-ERRORS-***************\n",
      "          Target_Mean\n",
      "salary               \n",
      "67.500          5.000\n",
      "68.000          3.000\n",
      "70.000         12.600\n",
      "75.000          8.600\n",
      "80.000          3.000\n",
      "...               ...\n",
      "1940.000       15.000\n",
      "1975.000        6.000\n",
      "2127.333        6.000\n",
      "2412.500        8.000\n",
      "2460.000       13.000\n",
      "\n",
      "[150 rows x 1 columns]\n"
     ]
    },
    {
     "data": {
      "image/png": "[encoded data removed]",
      "text/plain": [
       "<Figure size 864x432 with 1 Axes>"
      ]
     },
     "metadata": {},
     "output_type": "display_data"
    },
    {
     "name": "stdout",
     "output_type": "stream",
     "text": [
      "\n",
      "***************-SALARY-***************\n",
      "          Target_Mean\n",
      "salary               \n",
      "67.500         67.500\n",
      "68.000         68.000\n",
      "70.000         70.000\n",
      "75.000         75.000\n",
      "80.000         80.000\n",
      "...               ...\n",
      "1940.000     1940.000\n",
      "1975.000     1975.000\n",
      "2127.333     2127.333\n",
      "2412.500     2412.500\n",
      "2460.000     2460.000\n",
      "\n",
      "[150 rows x 1 columns]\n"
     ]
    },
    {
     "data": {
      "image/png": "[encoded data removed]",
      "text/plain": [
       "<Figure size 864x432 with 1 Axes>"
      ]
     },
     "metadata": {},
     "output_type": "display_data"
    }
   ],
   "source": [
    "def target_summary_with_num(dataframe, target, col_name, plot = False):\n",
    "    print(pd.DataFrame({\n",
    "        'Target_Mean': dataframe.groupby(target)[col_name].mean()\n",
    "        }))\n",
    "    \n",
    "    if plot:\n",
    "        plt.figure(figsize = (12, 6))\n",
    "        sns.boxplot(x = dataframe[col_name])\n",
    "        plt.show(block = True)\n",
    "\n",
    "for col in num_cols:\n",
    "    print(f'\\n***************-{col.upper()}-***************')\n",
    "    target_summary_with_num(df, 'salary', col, True)"
   ]
  },
  {
   "cell_type": "markdown",
   "metadata": {},
   "source": [
    "### **Correlation Analysis**"
   ]
  },
  {
   "cell_type": "code",
   "execution_count": 490,
   "metadata": {},
   "outputs": [
    {
     "data": {
      "image/png": "[encoded data removed]",
      "text/plain": [
       "<Figure size 1080x720 with 2 Axes>"
      ]
     },
     "metadata": {},
     "output_type": "display_data"
    }
   ],
   "source": [
    "def high_correlation_cols(dataframe, plot = False, corr_th = 0.90):\n",
    "    corr = dataframe.corr()\n",
    "    cor_matrix = corr.abs()     # Does not matter - or + correlation and easy to use\n",
    "    upper_triangle_matrix  = cor_matrix.where(np.triu(np.ones(cor_matrix.shape), k = 1).astype(np.bool))\n",
    "    drop_list = [col for col in upper_triangle_matrix.columns if any(upper_triangle_matrix[col] > corr_th)]\n",
    "    if plot:\n",
    "        plt.figure(figsize = (15, 10))\n",
    "        sns.heatmap(corr, annot = True, cmap = 'RdBu')\n",
    "        plt.show()\n",
    "    \n",
    "    return drop_list\n",
    "\n",
    "df = dataset()\n",
    "df.columns = [col.lower() for col in df.columns]\n",
    "drop_list = high_correlation_cols(df, plot = True)"
   ]
  },
  {
   "cell_type": "code",
   "execution_count": 491,
   "metadata": {},
   "outputs": [
    {
     "data": {
      "image/png": "[encoded data removed]",
      "text/plain": [
       "<Figure size 1080x720 with 2 Axes>"
      ]
     },
     "metadata": {},
     "output_type": "display_data"
    },
    {
     "data": {
      "text/plain": [
       "[]"
      ]
     },
     "execution_count": 491,
     "metadata": {},
     "output_type": "execute_result"
    }
   ],
   "source": [
    "high_correlation_cols(df.drop(drop_list, axis = 1), plot = True)"
   ]
  },
  {
   "cell_type": "markdown",
   "metadata": {},
   "source": [
    "## **Feature Engineering**"
   ]
  },
  {
   "cell_type": "markdown",
   "metadata": {},
   "source": [
    "### **Missin Data Analysis**"
   ]
  },
  {
   "cell_type": "markdown",
   "metadata": {},
   "source": [
    "#### **Getting columns including zero-one**"
   ]
  },
  {
   "cell_type": "code",
   "execution_count": 492,
   "metadata": {},
   "outputs": [
    {
     "data": {
      "text/plain": [
       "['hits',\n",
       " 'runs',\n",
       " 'rbi',\n",
       " 'walks',\n",
       " 'chmrun',\n",
       " 'cruns',\n",
       " 'crbi',\n",
       " 'cwalks',\n",
       " 'putouts']"
      ]
     },
     "execution_count": 492,
     "metadata": {},
     "output_type": "execute_result"
    }
   ],
   "source": [
    "df = dataset()\n",
    "df.columns = [col.lower() for col in df.columns]\n",
    "zero_one_columns = [col for col in df.columns if (((df[col].min() == 0) | (df[col].min() == 1)) and col not in [\"hmrun\", \"years\", \"assists\", \"errors\"])]\n",
    "zero_one_columns"
   ]
  },
  {
   "cell_type": "markdown",
   "metadata": {},
   "source": [
    "#### **Replacing each of the variables 0 and 1 in observation units with NaN**"
   ]
  },
  {
   "cell_type": "code",
   "execution_count": 493,
   "metadata": {},
   "outputs": [],
   "source": [
    "for col in zero_one_columns:\n",
    "    df[col] = np.where(((df[col] == 0) | (df[col] == 1)), np.nan, df[col])"
   ]
  },
  {
   "cell_type": "markdown",
   "metadata": {},
   "source": [
    "##### **Missing Data**"
   ]
  },
  {
   "cell_type": "code",
   "execution_count": 494,
   "metadata": {},
   "outputs": [
    {
     "data": {
      "text/plain": [
       "atbat         0\n",
       "hits          1\n",
       "hmrun         0\n",
       "runs          4\n",
       "rbi           3\n",
       "walks         5\n",
       "years         0\n",
       "catbat        0\n",
       "chits         0\n",
       "chmrun       16\n",
       "cruns         1\n",
       "crbi          1\n",
       "cwalks        2\n",
       "league        0\n",
       "division      0\n",
       "putouts      15\n",
       "assists       0\n",
       "errors        0\n",
       "salary       59\n",
       "newleague     0\n",
       "dtype: int64"
      ]
     },
     "execution_count": 494,
     "metadata": {},
     "output_type": "execute_result"
    }
   ],
   "source": [
    "df.isnull().sum()"
   ]
  },
  {
   "cell_type": "markdown",
   "metadata": {},
   "source": [
    "### **Defining a function to get misssing data table**"
   ]
  },
  {
   "cell_type": "code",
   "execution_count": 495,
   "metadata": {},
   "outputs": [
    {
     "name": "stdout",
     "output_type": "stream",
     "text": [
      "         n_miss  ratio\n",
      "salary       59 18.320\n",
      "chmrun       16  4.970\n",
      "putouts      15  4.660\n",
      "walks         5  1.550\n",
      "runs          4  1.240\n",
      "rbi           3  0.930\n",
      "cwalks        2  0.620\n",
      "hits          1  0.310\n",
      "cruns         1  0.310\n",
      "crbi          1  0.310\n"
     ]
    }
   ],
   "source": [
    "def missing_values_table(dataframe, na_name = False):\n",
    "    na_columns = [col for col in dataframe.columns if dataframe[col].isnull().sum() > 0]\n",
    "    n_miss = dataframe[na_columns].isnull().sum().sort_values(ascending = False)\n",
    "    ratio = (dataframe[na_columns].isnull().sum()/dataframe.shape[0] * 100).sort_values(ascending = False)\n",
    "    missing_df = pd.concat([n_miss, np.round(ratio, 2)], axis = 1, keys = ['n_miss', 'ratio'])\n",
    "    print(missing_df, end = '\\n')\n",
    "\n",
    "    if na_name:\n",
    "        return na_columns\n",
    "    \n",
    "na_columns = missing_values_table(df, na_name = True)"
   ]
  },
  {
   "cell_type": "markdown",
   "metadata": {},
   "source": [
    "#### **Filling the missing data in target variable with median**"
   ]
  },
  {
   "cell_type": "code",
   "execution_count": 496,
   "metadata": {},
   "outputs": [],
   "source": [
    "df.loc[df['salary'].isnull(), 'salary'] = df['salary'].median()"
   ]
  },
  {
   "cell_type": "markdown",
   "metadata": {},
   "source": [
    "#### **Defining a function to examine the relationship of missing data with the dependent variable**"
   ]
  },
  {
   "cell_type": "code",
   "execution_count": 497,
   "metadata": {},
   "outputs": [
    {
     "name": "stdout",
     "output_type": "stream",
     "text": [
      "              Target_mean  Count\n",
      "hits_na_flag                    \n",
      "0                 510.580    321\n",
      "1                2127.333      1\n",
      "\n",
      "              Target_mean  Count\n",
      "runs_na_flag                    \n",
      "0                 511.387    318\n",
      "1                 850.583      4\n",
      "\n",
      "             Target_mean  Count\n",
      "rbi_na_flag                    \n",
      "0                511.117    319\n",
      "1                992.444      3\n",
      "\n",
      "               Target_mean  Count\n",
      "walks_na_flag                    \n",
      "0                  510.098    317\n",
      "1                  864.467      5\n",
      "\n",
      "                Target_mean  Count\n",
      "chmrun_na_flag                    \n",
      "0                   526.556    306\n",
      "1                   306.094     16\n",
      "\n",
      "               Target_mean  Count\n",
      "cruns_na_flag                    \n",
      "0                  515.883    321\n",
      "1                  425.000      1\n",
      "\n",
      "              Target_mean  Count\n",
      "crbi_na_flag                    \n",
      "0                 515.883    321\n",
      "1                 425.000      1\n",
      "\n",
      "                Target_mean  Count\n",
      "cwalks_na_flag                    \n",
      "0                   514.620    320\n",
      "1                   672.500      2\n",
      "\n",
      "                 Target_mean  Count\n",
      "putouts_na_flag                    \n",
      "0                    515.305    307\n",
      "1                    521.667     15\n",
      "\n",
      "                Target_mean  Count\n",
      "salary_na_flag                    \n",
      "0                   515.601    322\n",
      "\n"
     ]
    }
   ],
   "source": [
    "def missing_vs_target(dataframe, target, na_cols):\n",
    "    temp_df = dataframe.copy()\n",
    "    for col in na_cols:\n",
    "        temp_df[col + '_na_flag'] = np.where(temp_df[col].isnull(), 1, 0)\n",
    "    na_flags = temp_df.loc[:, temp_df.columns.str.contains('_na_')].columns\n",
    "    for col in na_flags:\n",
    "        print(pd.DataFrame({\n",
    "            'Target_mean': temp_df.groupby(col)[target].mean(),\n",
    "            'Count': temp_df.groupby(col)[target].count()\n",
    "        }), end = '\\n\\n')\n",
    "\n",
    "missing_vs_target(df, 'salary', na_columns)"
   ]
  },
  {
   "cell_type": "markdown",
   "metadata": {},
   "source": [
    "#### **Filling the missing data with median**"
   ]
  },
  {
   "cell_type": "code",
   "execution_count": 498,
   "metadata": {},
   "outputs": [
    {
     "data": {
      "text/plain": [
       "atbat        0\n",
       "hits         0\n",
       "hmrun        0\n",
       "runs         0\n",
       "rbi          0\n",
       "walks        0\n",
       "years        0\n",
       "catbat       0\n",
       "chits        0\n",
       "chmrun       0\n",
       "cruns        0\n",
       "crbi         0\n",
       "cwalks       0\n",
       "league       0\n",
       "division     0\n",
       "putouts      0\n",
       "assists      0\n",
       "errors       0\n",
       "salary       0\n",
       "newleague    0\n",
       "dtype: int64"
      ]
     },
     "execution_count": 498,
     "metadata": {},
     "output_type": "execute_result"
    }
   ],
   "source": [
    "for col in zero_one_columns:\n",
    "    df.loc[df[col].isnull(), col] = df[col].median()\n",
    "df.isnull().sum()"
   ]
  },
  {
   "cell_type": "markdown",
   "metadata": {},
   "source": [
    "### **Outliers**"
   ]
  },
  {
   "cell_type": "markdown",
   "metadata": {},
   "source": [
    "#### **Defining a function to get outliers**"
   ]
  },
  {
   "cell_type": "code",
   "execution_count": 499,
   "metadata": {},
   "outputs": [],
   "source": [
    "def outlier_threshold(dataframe, col_name, q1 = 0.10, q3 = 0.90):\n",
    "    quantile1 = dataframe[col_name].quantile(q1)\n",
    "    quantile3 = dataframe[col_name].quantile(q3)\n",
    "    iqr = quantile3 - quantile1\n",
    "    down_limit = quantile1 - 1.5 * iqr\n",
    "    up_limit = quantile3 + 1.5 * iqr\n",
    "\n",
    "    return down_limit, up_limit"
   ]
  },
  {
   "cell_type": "markdown",
   "metadata": {},
   "source": [
    "#### **Defining a function to ask whether there is an outlier or not**"
   ]
  },
  {
   "cell_type": "code",
   "execution_count": 500,
   "metadata": {},
   "outputs": [],
   "source": [
    "def check_outlier(dataframe, col_name):\n",
    "    down_limit, up_limit = outlier_threshold(dataframe, col_name)\n",
    "    if dataframe[(dataframe[col_name] < down_limit) | (dataframe[col_name] > up_limit)].any(axis = None):\n",
    "        return True\n",
    "    else:\n",
    "        return False"
   ]
  },
  {
   "cell_type": "markdown",
   "metadata": {},
   "source": [
    "#### **Defining a function to replace the outliers with thresholds**"
   ]
  },
  {
   "cell_type": "code",
   "execution_count": 501,
   "metadata": {},
   "outputs": [],
   "source": [
    "def replace_with_threshold(dataframe, col_name):\n",
    "    down_limit, up_limit = outlier_threshold(dataframe, col_name)\n",
    "    dataframe.loc[(dataframe[col_name] < down_limit), col_name] = down_limit\n",
    "    dataframe.loc[(dataframe[col_name] > up_limit), col_name] = up_limit"
   ]
  },
  {
   "cell_type": "code",
   "execution_count": 502,
   "metadata": {},
   "outputs": [
    {
     "name": "stdout",
     "output_type": "stream",
     "text": [
      "atbat False\n",
      "hits False\n",
      "hmrun False\n",
      "runs False\n",
      "rbi False\n",
      "walks False\n",
      "years False\n",
      "catbat False\n",
      "chits True\n",
      "chmrun True\n",
      "cruns False\n",
      "crbi False\n",
      "cwalks True\n",
      "putouts False\n",
      "assists False\n",
      "errors False\n",
      "salary True\n"
     ]
    }
   ],
   "source": [
    "for col in num_cols:\n",
    "    print(col, check_outlier(df, col))"
   ]
  },
  {
   "cell_type": "code",
   "execution_count": 503,
   "metadata": {},
   "outputs": [],
   "source": [
    "for col in num_cols:\n",
    "    replace_with_threshold(df, col)"
   ]
  },
  {
   "cell_type": "code",
   "execution_count": 504,
   "metadata": {},
   "outputs": [
    {
     "name": "stdout",
     "output_type": "stream",
     "text": [
      "atbat False\n",
      "hits False\n",
      "hmrun False\n",
      "runs False\n",
      "rbi False\n",
      "walks False\n",
      "years False\n",
      "catbat False\n",
      "chits False\n",
      "chmrun False\n",
      "cruns False\n",
      "crbi False\n",
      "cwalks False\n",
      "putouts False\n",
      "assists False\n",
      "errors False\n",
      "salary False\n"
     ]
    }
   ],
   "source": [
    "for col in num_cols:\n",
    "    print(col, check_outlier(df, col))"
   ]
  },
  {
   "cell_type": "markdown",
   "metadata": {},
   "source": [
    "## **Feature Extraction**"
   ]
  },
  {
   "cell_type": "code",
   "execution_count": 505,
   "metadata": {},
   "outputs": [
    {
     "data": {
      "text/plain": [
       "Index(['atbat', 'hits', 'hmrun', 'runs', 'rbi', 'walks', 'years', 'catbat', 'chits', 'chmrun', 'cruns', 'crbi', 'cwalks', 'league', 'division', 'putouts', 'assists', 'errors', 'salary', 'newleague'], dtype='object')"
      ]
     },
     "execution_count": 505,
     "metadata": {},
     "output_type": "execute_result"
    }
   ],
   "source": [
    "df.columns"
   ]
  },
  {
   "cell_type": "markdown",
   "metadata": {},
   "source": [
    "#### **Effect of interaction on salary**"
   ]
  },
  {
   "cell_type": "code",
   "execution_count": 506,
   "metadata": {},
   "outputs": [],
   "source": [
    "df['new_hmrun_atbat'] = df['hmrun'] * df['atbat']\n",
    "df['new_atbat_rbi'] = df['atbat'] * df['rbi']\n",
    "df['new_hmrun_rbi'] = df['hmrun'] * df['rbi']\n",
    "df['new_atbat_walks'] = df['atbat'] * df['walks']\n",
    "df['new_hmrun_walks'] = df['hmrun'] * df['walks']\n",
    "df['new_rbi_walks'] = df['rbi'] * df['walks']\n",
    "df['nwe_hmrun_chumrun'] = df['hmrun'] * df['chmrun']\n",
    "df['new_rbi_chumrun'] = df['rbi'] * df['chmrun']\n",
    "df['new_years_chumrun'] = df['years'] * df['chmrun']\n",
    "df['new_assists_errors'] = df['assists'] * df['errors']"
   ]
  },
  {
   "cell_type": "markdown",
   "metadata": {},
   "source": [
    "#### **Experience to year**"
   ]
  },
  {
   "cell_type": "code",
   "execution_count": 507,
   "metadata": {},
   "outputs": [],
   "source": [
    "df['new_experience'] = pd.cut(x = df['years'], bins = [0, 2, 8, df.years.max()], \n",
    "                        labels = ['low_experience', 'middle_experience', 'high_experience'])"
   ]
  },
  {
   "cell_type": "markdown",
   "metadata": {},
   "source": [
    "#### **Total number of hits**"
   ]
  },
  {
   "cell_type": "code",
   "execution_count": 508,
   "metadata": {},
   "outputs": [],
   "source": [
    "df['new_sum_hit'] = df['atbat'] + df['hits'] + df['hmrun']"
   ]
  },
  {
   "cell_type": "markdown",
   "metadata": {},
   "source": [
    "#### **Total number of hits during career**"
   ]
  },
  {
   "cell_type": "code",
   "execution_count": 509,
   "metadata": {},
   "outputs": [],
   "source": [
    "df['new_sum_ball_hits'] = df['catbat'] + df['chits']"
   ]
  },
  {
   "cell_type": "markdown",
   "metadata": {},
   "source": [
    "#### **Total number of the best scores**"
   ]
  },
  {
   "cell_type": "code",
   "execution_count": 510,
   "metadata": {},
   "outputs": [],
   "source": [
    "df['new_total_scores'] = df['chmrun'] + df['cruns']"
   ]
  },
  {
   "cell_type": "markdown",
   "metadata": {},
   "source": [
    "#### **Total number of players running**"
   ]
  },
  {
   "cell_type": "code",
   "execution_count": 511,
   "metadata": {},
   "outputs": [],
   "source": [
    "df['new_total_runners'] = df['rbi'] + df['crbi']"
   ]
  },
  {
   "cell_type": "markdown",
   "metadata": {},
   "source": [
    "#### **Total number of errors**"
   ]
  },
  {
   "cell_type": "code",
   "execution_count": 512,
   "metadata": {},
   "outputs": [],
   "source": [
    "df['new_total_errors'] = df['walks'] + df['cwalks']"
   ]
  },
  {
   "cell_type": "markdown",
   "metadata": {},
   "source": [
    "#### **Helping level**"
   ]
  },
  {
   "cell_type": "code",
   "execution_count": 513,
   "metadata": {},
   "outputs": [],
   "source": [
    "labels = ['bad_level', 'middle_level', 'high_level']\n",
    "df['new_putout_level'] = pd.qcut(df['putouts'], 3, labels = labels)"
   ]
  },
  {
   "cell_type": "markdown",
   "metadata": {},
   "source": [
    "#### **Relationship between league and assists**"
   ]
  },
  {
   "cell_type": "code",
   "execution_count": 514,
   "metadata": {},
   "outputs": [],
   "source": [
    "df.loc[(df['league'] == 'A') & (df['assists'] <= 39.5), 'new_league_cat'] = 'low_assists_level_A'\n",
    "df.loc[(df['league'] == 'A') & (df['assists'] > 39.5), 'new_league_cat'] = 'high_assists_level_A'\n",
    "df.loc[(df['league'] == 'N') & (df['assists'] <= 39.5), 'new_league_cat'] = 'low_assists_level_N'\n",
    "df.loc[(df['league'] == 'N') & (df['assists'] > 39.5), 'new_league_cat'] = 'high_assists_level_N'\n",
    "df.loc[(df['newleague'] == 'A') & (df['assists'] <= 39.5), 'new_newleague_cat'] = 'low_assists_level_A'\n",
    "df.loc[(df['newleague'] == 'A') & (df['assists'] > 39.5), 'new_newleague_cat'] = 'high_assists_level_A'\n",
    "df.loc[(df['newleague'] == 'N') & (df['assists'] <= 39.5), 'new_newleague_cat'] = 'low_assists_level_N'\n",
    "df.loc[(df['newleague'] == 'N') & (df['assists'] > 39.5), 'new_newleague_cat'] = 'high_assists_level_N'"
   ]
  },
  {
   "cell_type": "markdown",
   "metadata": {},
   "source": [
    "#### **Relationship between division and assists**"
   ]
  },
  {
   "cell_type": "code",
   "execution_count": 515,
   "metadata": {},
   "outputs": [],
   "source": [
    "df.loc[(df['division'] == 'E') & (df['assists'] <= 39.5), 'new_division_cat'] = 'low_assists_level_E'\n",
    "df.loc[(df['division'] == 'E') & (df['assists'] > 39.5), 'new_division_cat'] = 'high_assists_level_E'\n",
    "df.loc[(df['division'] == 'W') & (df['assists'] <= 39.5), 'new_division_cat'] = 'low_assists_level_W'\n",
    "df.loc[(df['division'] == 'W') & (df['assists'] > 39.5), 'new_division_cat'] = 'high_assists_level_W'"
   ]
  },
  {
   "cell_type": "markdown",
   "metadata": {},
   "source": [
    "#### **Relationship between league and errors**"
   ]
  },
  {
   "cell_type": "code",
   "execution_count": 516,
   "metadata": {},
   "outputs": [],
   "source": [
    "df.loc[(df['league'] == 'A') & (df['errors'] <= df['errors'].median()), 'new_error_cat'] = 'low_error_A'\n",
    "df.loc[(df['league'] == 'A') & (df['errors'] > df['errors'].median()), 'new_error_cat'] = 'high_error_A'\n",
    "df.loc[(df['league'] == 'N') & (df['errors'] <= df['errors'].median()), 'new_error_cat'] = 'low_error_N'\n",
    "df.loc[(df['league'] == 'N') & (df['errors'] > df['errors'].median()), 'new_error_cat'] = 'high_error_N'\n",
    "df.loc[(df['newleague'] == 'A') & (df['errors'] <= df['errors'].median()), 'new_newerror_cat'] = 'low_error_A'\n",
    "df.loc[(df['newleague'] == 'A') & (df['errors'] > df['errors'].median()), 'new_newerror_cat'] = 'high_error_A'\n",
    "df.loc[(df['newleague'] == 'N') & (df['errors'] <= df['errors'].median()), 'new_newerror_cat'] = 'low_error_N'\n",
    "df.loc[(df['newleague'] == 'N') & (df['errors'] > df['errors'].median()), 'new_newerror_cat'] = 'high_error_N'"
   ]
  },
  {
   "cell_type": "markdown",
   "metadata": {},
   "source": [
    "#### **Relationship between division and errors**"
   ]
  },
  {
   "cell_type": "code",
   "execution_count": 517,
   "metadata": {},
   "outputs": [],
   "source": [
    "df.loc[(df['division'] == 'E') & (df['errors'] <= df['errors'].median()), 'new_division_error'] = 'low_error_E'\n",
    "df.loc[(df['division'] == 'E') & (df['errors'] > df['errors'].median()), 'new_division_error'] = 'high_error_E'\n",
    "df.loc[(df['division'] == 'W') & (df['errors'] <= df['errors'].median()), 'new_division_error'] = 'low_error_W'\n",
    "df.loc[(df['division'] == 'W') & (df['errors'] > df['errors'].median()), 'new_division_error'] = 'high_error_W'"
   ]
  },
  {
   "cell_type": "markdown",
   "metadata": {},
   "source": [
    "#### **Relationship between division and walks/cwalks**"
   ]
  },
  {
   "cell_type": "code",
   "execution_count": 518,
   "metadata": {},
   "outputs": [],
   "source": [
    "df.loc[(df['division'] == 'E') & (df['walks'] <= df['walks'].median()), 'new_division_walks'] = 'low_walks_E'\n",
    "df.loc[(df['division'] == 'E') & (df['walks'] > df['walks'].median()), 'new_division_walks'] = 'high_walks_E'\n",
    "df.loc[(df['division'] == 'W') & (df['walks'] <= df['walks'].median()), 'new_division_walks'] = 'low_walks_W'\n",
    "df.loc[(df['division'] == 'W') & (df['walks'] > df['walks'].median()), 'new_division_walks'] = 'high_walks_W'\n",
    "df.loc[(df['division'] == 'E') & (df['cwalks'] <= df['cwalks'].median()), 'new_division_cwalks'] = 'low_cwalks_E'\n",
    "df.loc[(df['division'] == 'E') & (df['cwalks'] > df['cwalks'].median()), 'new_division_cwalks'] = 'high_cwalks_E'\n",
    "df.loc[(df['division'] == 'W') & (df['cwalks'] <= df['cwalks'].median()), 'new_division_cwalks'] = 'low_cwalks_W'\n",
    "df.loc[(df['division'] == 'W') & (df['cwalks'] > df['cwalks'].median()), 'new_division_cwalks'] = 'high_cwalks_W'"
   ]
  },
  {
   "cell_type": "markdown",
   "metadata": {},
   "source": [
    "#### **Relationship between league and walks/cwalks**"
   ]
  },
  {
   "cell_type": "code",
   "execution_count": 519,
   "metadata": {},
   "outputs": [],
   "source": [
    "df.loc[(df['league'] == 'A') & (df['walks'] <= df['walks'].median()), 'new_league_walks'] = 'low_walks_A'\n",
    "df.loc[(df['league'] == 'A') & (df['walks'] > df['walks'].median()), 'new_league_walks'] = 'high_walks_A'\n",
    "df.loc[(df['league'] == 'N') & (df['walks'] <= df['walks'].median()), 'new_league_walks'] = 'low_walks_N'\n",
    "df.loc[(df['league'] == 'N') & (df['walks'] > df['walks'].median()), 'new_league_walks'] = 'high_walks_N'\n",
    "df.loc[(df['league'] == 'A') & (df['cwalks'] <= df['cwalks'].median()), 'new_league_cwalks'] = 'low_cwalks_A'\n",
    "df.loc[(df['league'] == 'A') & (df['cwalks'] > df['cwalks'].median()), 'new_league_cwalks'] = 'high_cwalks_A'\n",
    "df.loc[(df['league'] == 'N') & (df['cwalks'] <= df['cwalks'].median()), 'new_league_cwalks'] = 'low_cwalks_N'\n",
    "df.loc[(df['league'] == 'N') & (df['cwalks'] > df['cwalks'].median()), 'new_league_cwalks'] = 'high_cwalks_N'"
   ]
  },
  {
   "cell_type": "markdown",
   "metadata": {},
   "source": [
    "#### **Relationship between newleague and walks/cwalks**"
   ]
  },
  {
   "cell_type": "code",
   "execution_count": 520,
   "metadata": {},
   "outputs": [],
   "source": [
    "df.loc[(df['newleague'] == 'A') & (df['walks'] <= df['walks'].median()), 'new_newleague_walks'] = 'low_walks_A'\n",
    "df.loc[(df['newleague'] == 'A') & (df['walks'] > df['walks'].median()), 'new_newleague_walks'] = 'high_walks_A'\n",
    "df.loc[(df['newleague'] == 'N') & (df['walks'] <= df['walks'].median()), 'new_newleague_walks'] = 'low_walks_N'\n",
    "df.loc[(df['newleague'] == 'N') & (df['walks'] > df['walks'].median()), 'new_newleague_walks'] = 'high_walks_N'\n",
    "df.loc[(df['newleague'] == 'A') & (df['cwalks'] <= df['cwalks'].median()), 'new_newleague_cwalks'] = 'low_cwalks_A'\n",
    "df.loc[(df['newleague'] == 'A') & (df['cwalks'] > df['cwalks'].median()), 'new_newleague_cwalks'] = 'high_cwalks_A'\n",
    "df.loc[(df['newleague'] == 'N') & (df['cwalks'] <= df['cwalks'].median()), 'new_newleague_cwalks'] = 'low_cwalks_N'\n",
    "df.loc[(df['newleague'] == 'N') & (df['cwalks'] > df['cwalks'].median()), 'new_newleague_cwalks'] = 'high_cwalks_N'"
   ]
  },
  {
   "cell_type": "markdown",
   "metadata": {},
   "source": [
    "#### **Checking outliers**"
   ]
  },
  {
   "cell_type": "code",
   "execution_count": 521,
   "metadata": {},
   "outputs": [
    {
     "name": "stdout",
     "output_type": "stream",
     "text": [
      "Observations : 322\n",
      "Variables: 49\n",
      "Number of categoric columns: 17\n",
      "Number of numeric columns: 32\n",
      "Number of categoric but cardinal columns: 0\n",
      "Number of numeric but categoric columns: 0\n"
     ]
    }
   ],
   "source": [
    "cat_cols, num_cols, cat_but_car = grab_col_names(df)"
   ]
  },
  {
   "cell_type": "code",
   "execution_count": 522,
   "metadata": {},
   "outputs": [
    {
     "name": "stdout",
     "output_type": "stream",
     "text": [
      "atbat False\n",
      "hits False\n",
      "hmrun False\n",
      "runs False\n",
      "rbi False\n",
      "walks False\n",
      "years False\n",
      "catbat False\n",
      "chits False\n",
      "chmrun False\n",
      "cruns False\n",
      "crbi False\n",
      "cwalks False\n",
      "putouts False\n",
      "assists False\n",
      "errors False\n",
      "salary False\n",
      "new_hmrun_atbat False\n",
      "new_atbat_rbi False\n",
      "new_hmrun_rbi False\n",
      "new_atbat_walks False\n",
      "new_hmrun_walks False\n",
      "new_rbi_walks False\n",
      "nwe_hmrun_chumrun True\n",
      "new_rbi_chumrun True\n",
      "new_years_chumrun True\n",
      "new_assists_errors True\n",
      "new_sum_hit False\n",
      "new_sum_ball_hits False\n",
      "new_total_scores False\n",
      "new_total_runners False\n",
      "new_total_errors False\n"
     ]
    }
   ],
   "source": [
    "for col in num_cols:\n",
    "    print(col, check_outlier(df, col))"
   ]
  },
  {
   "cell_type": "code",
   "execution_count": 523,
   "metadata": {},
   "outputs": [],
   "source": [
    "for col in num_cols:\n",
    "    replace_with_threshold(df, col)"
   ]
  },
  {
   "cell_type": "code",
   "execution_count": 524,
   "metadata": {},
   "outputs": [
    {
     "name": "stdout",
     "output_type": "stream",
     "text": [
      "atbat False\n",
      "hits False\n",
      "hmrun False\n",
      "runs False\n",
      "rbi False\n",
      "walks False\n",
      "years False\n",
      "catbat False\n",
      "chits False\n",
      "chmrun False\n",
      "cruns False\n",
      "crbi False\n",
      "cwalks False\n",
      "putouts False\n",
      "assists False\n",
      "errors False\n",
      "salary False\n",
      "new_hmrun_atbat False\n",
      "new_atbat_rbi False\n",
      "new_hmrun_rbi False\n",
      "new_atbat_walks False\n",
      "new_hmrun_walks False\n",
      "new_rbi_walks False\n",
      "nwe_hmrun_chumrun False\n",
      "new_rbi_chumrun False\n",
      "new_years_chumrun False\n",
      "new_assists_errors False\n",
      "new_sum_hit False\n",
      "new_sum_ball_hits False\n",
      "new_total_scores False\n",
      "new_total_runners False\n",
      "new_total_errors False\n"
     ]
    }
   ],
   "source": [
    "for col in num_cols:\n",
    "    print(col, check_outlier(df, col))"
   ]
  },
  {
   "cell_type": "code",
   "execution_count": 525,
   "metadata": {},
   "outputs": [
    {
     "name": "stdout",
     "output_type": "stream",
     "text": [
      "Empty DataFrame\n",
      "Columns: [n_miss, ratio]\n",
      "Index: []\n"
     ]
    }
   ],
   "source": [
    "missing_values_table(df)"
   ]
  },
  {
   "cell_type": "markdown",
   "metadata": {},
   "source": [
    "### **Label encoding**"
   ]
  },
  {
   "cell_type": "code",
   "execution_count": 526,
   "metadata": {},
   "outputs": [],
   "source": [
    "def label_encoder(dataframe, binary_cols):\n",
    "    label_encoder = LabelEncoder()\n",
    "    dataframe[binary_cols] = label_encoder.fit_transform(dataframe[binary_cols])\n",
    "\n",
    "    return dataframe"
   ]
  },
  {
   "cell_type": "code",
   "execution_count": 527,
   "metadata": {},
   "outputs": [
    {
     "data": {
      "text/plain": [
       "['league', 'division', 'newleague']"
      ]
     },
     "execution_count": 527,
     "metadata": {},
     "output_type": "execute_result"
    }
   ],
   "source": [
    "binary_cols = [col for col in df.columns if df[col].dtypes in ['category', 'object', 'bool'] and df[col].nunique() == 2]\n",
    "binary_cols"
   ]
  },
  {
   "cell_type": "code",
   "execution_count": 528,
   "metadata": {},
   "outputs": [],
   "source": [
    "for col in binary_cols:\n",
    "    label_encoder(df, col)"
   ]
  },
  {
   "cell_type": "code",
   "execution_count": 529,
   "metadata": {},
   "outputs": [
    {
     "data": {
      "text/html": [
       "<div>\n",
       "<style scoped>\n",
       "    .dataframe tbody tr th:only-of-type {\n",
       "        vertical-align: middle;\n",
       "    }\n",
       "\n",
       "    .dataframe tbody tr th {\n",
       "        vertical-align: top;\n",
       "    }\n",
       "\n",
       "    .dataframe thead th {\n",
       "        text-align: right;\n",
       "    }\n",
       "</style>\n",
       "<table border=\"1\" class=\"dataframe\">\n",
       "  <thead>\n",
       "    <tr style=\"text-align: right;\">\n",
       "      <th></th>\n",
       "      <th>atbat</th>\n",
       "      <th>hits</th>\n",
       "      <th>hmrun</th>\n",
       "      <th>runs</th>\n",
       "      <th>rbi</th>\n",
       "      <th>walks</th>\n",
       "      <th>years</th>\n",
       "      <th>catbat</th>\n",
       "      <th>chits</th>\n",
       "      <th>chmrun</th>\n",
       "      <th>cruns</th>\n",
       "      <th>crbi</th>\n",
       "      <th>cwalks</th>\n",
       "      <th>league</th>\n",
       "      <th>division</th>\n",
       "      <th>putouts</th>\n",
       "      <th>assists</th>\n",
       "      <th>errors</th>\n",
       "      <th>salary</th>\n",
       "      <th>newleague</th>\n",
       "      <th>new_hmrun_atbat</th>\n",
       "      <th>new_atbat_rbi</th>\n",
       "      <th>new_hmrun_rbi</th>\n",
       "      <th>new_atbat_walks</th>\n",
       "      <th>new_hmrun_walks</th>\n",
       "      <th>new_rbi_walks</th>\n",
       "      <th>nwe_hmrun_chumrun</th>\n",
       "      <th>new_rbi_chumrun</th>\n",
       "      <th>new_years_chumrun</th>\n",
       "      <th>new_assists_errors</th>\n",
       "      <th>new_experience</th>\n",
       "      <th>new_sum_hit</th>\n",
       "      <th>new_sum_ball_hits</th>\n",
       "      <th>new_total_scores</th>\n",
       "      <th>new_total_runners</th>\n",
       "      <th>new_total_errors</th>\n",
       "      <th>new_putout_level</th>\n",
       "      <th>new_league_cat</th>\n",
       "      <th>new_newleague_cat</th>\n",
       "      <th>new_division_cat</th>\n",
       "      <th>new_error_cat</th>\n",
       "      <th>new_newerror_cat</th>\n",
       "      <th>new_division_error</th>\n",
       "      <th>new_division_walks</th>\n",
       "      <th>new_division_cwalks</th>\n",
       "      <th>new_league_walks</th>\n",
       "      <th>new_league_cwalks</th>\n",
       "      <th>new_newleague_walks</th>\n",
       "      <th>new_newleague_cwalks</th>\n",
       "    </tr>\n",
       "  </thead>\n",
       "  <tbody>\n",
       "    <tr>\n",
       "      <th>0</th>\n",
       "      <td>293.000</td>\n",
       "      <td>66.000</td>\n",
       "      <td>1.000</td>\n",
       "      <td>30.000</td>\n",
       "      <td>29.000</td>\n",
       "      <td>14.000</td>\n",
       "      <td>1.000</td>\n",
       "      <td>293.000</td>\n",
       "      <td>66.000</td>\n",
       "      <td>40.000</td>\n",
       "      <td>30.000</td>\n",
       "      <td>29.000</td>\n",
       "      <td>14.000</td>\n",
       "      <td>0</td>\n",
       "      <td>0</td>\n",
       "      <td>446.000</td>\n",
       "      <td>33.000</td>\n",
       "      <td>20</td>\n",
       "      <td>425.000</td>\n",
       "      <td>0</td>\n",
       "      <td>293.000</td>\n",
       "      <td>8497.000</td>\n",
       "      <td>29.000</td>\n",
       "      <td>4102.000</td>\n",
       "      <td>14.000</td>\n",
       "      <td>406.000</td>\n",
       "      <td>40.000</td>\n",
       "      <td>1160.000</td>\n",
       "      <td>40.000</td>\n",
       "      <td>660.000</td>\n",
       "      <td>low_experience</td>\n",
       "      <td>360.000</td>\n",
       "      <td>359.000</td>\n",
       "      <td>70.000</td>\n",
       "      <td>58.000</td>\n",
       "      <td>28.000</td>\n",
       "      <td>high_level</td>\n",
       "      <td>low_assists_level_A</td>\n",
       "      <td>low_assists_level_A</td>\n",
       "      <td>low_assists_level_E</td>\n",
       "      <td>high_error_A</td>\n",
       "      <td>high_error_A</td>\n",
       "      <td>high_error_E</td>\n",
       "      <td>low_walks_E</td>\n",
       "      <td>low_cwalks_E</td>\n",
       "      <td>low_walks_A</td>\n",
       "      <td>low_cwalks_A</td>\n",
       "      <td>low_walks_A</td>\n",
       "      <td>low_cwalks_A</td>\n",
       "    </tr>\n",
       "    <tr>\n",
       "      <th>1</th>\n",
       "      <td>315.000</td>\n",
       "      <td>81.000</td>\n",
       "      <td>7.000</td>\n",
       "      <td>24.000</td>\n",
       "      <td>38.000</td>\n",
       "      <td>39.000</td>\n",
       "      <td>14.000</td>\n",
       "      <td>3449.000</td>\n",
       "      <td>835.000</td>\n",
       "      <td>69.000</td>\n",
       "      <td>321.000</td>\n",
       "      <td>414.000</td>\n",
       "      <td>375.000</td>\n",
       "      <td>1</td>\n",
       "      <td>1</td>\n",
       "      <td>632.000</td>\n",
       "      <td>43.000</td>\n",
       "      <td>10</td>\n",
       "      <td>475.000</td>\n",
       "      <td>1</td>\n",
       "      <td>2205.000</td>\n",
       "      <td>11970.000</td>\n",
       "      <td>266.000</td>\n",
       "      <td>12285.000</td>\n",
       "      <td>273.000</td>\n",
       "      <td>1482.000</td>\n",
       "      <td>483.000</td>\n",
       "      <td>2622.000</td>\n",
       "      <td>966.000</td>\n",
       "      <td>430.000</td>\n",
       "      <td>high_experience</td>\n",
       "      <td>403.000</td>\n",
       "      <td>4284.000</td>\n",
       "      <td>390.000</td>\n",
       "      <td>452.000</td>\n",
       "      <td>414.000</td>\n",
       "      <td>high_level</td>\n",
       "      <td>high_assists_level_N</td>\n",
       "      <td>high_assists_level_N</td>\n",
       "      <td>high_assists_level_W</td>\n",
       "      <td>high_error_N</td>\n",
       "      <td>high_error_N</td>\n",
       "      <td>high_error_W</td>\n",
       "      <td>high_walks_W</td>\n",
       "      <td>high_cwalks_W</td>\n",
       "      <td>high_walks_N</td>\n",
       "      <td>high_cwalks_N</td>\n",
       "      <td>high_walks_N</td>\n",
       "      <td>high_cwalks_N</td>\n",
       "    </tr>\n",
       "    <tr>\n",
       "      <th>2</th>\n",
       "      <td>479.000</td>\n",
       "      <td>130.000</td>\n",
       "      <td>18.000</td>\n",
       "      <td>66.000</td>\n",
       "      <td>72.000</td>\n",
       "      <td>76.000</td>\n",
       "      <td>3.000</td>\n",
       "      <td>1624.000</td>\n",
       "      <td>457.000</td>\n",
       "      <td>63.000</td>\n",
       "      <td>224.000</td>\n",
       "      <td>266.000</td>\n",
       "      <td>263.000</td>\n",
       "      <td>0</td>\n",
       "      <td>1</td>\n",
       "      <td>880.000</td>\n",
       "      <td>82.000</td>\n",
       "      <td>14</td>\n",
       "      <td>480.000</td>\n",
       "      <td>0</td>\n",
       "      <td>8622.000</td>\n",
       "      <td>34488.000</td>\n",
       "      <td>1296.000</td>\n",
       "      <td>36404.000</td>\n",
       "      <td>1368.000</td>\n",
       "      <td>5472.000</td>\n",
       "      <td>1134.000</td>\n",
       "      <td>4536.000</td>\n",
       "      <td>189.000</td>\n",
       "      <td>1148.000</td>\n",
       "      <td>middle_experience</td>\n",
       "      <td>627.000</td>\n",
       "      <td>2081.000</td>\n",
       "      <td>287.000</td>\n",
       "      <td>338.000</td>\n",
       "      <td>339.000</td>\n",
       "      <td>high_level</td>\n",
       "      <td>high_assists_level_A</td>\n",
       "      <td>high_assists_level_A</td>\n",
       "      <td>high_assists_level_W</td>\n",
       "      <td>high_error_A</td>\n",
       "      <td>high_error_A</td>\n",
       "      <td>high_error_W</td>\n",
       "      <td>high_walks_W</td>\n",
       "      <td>high_cwalks_W</td>\n",
       "      <td>high_walks_A</td>\n",
       "      <td>high_cwalks_A</td>\n",
       "      <td>high_walks_A</td>\n",
       "      <td>high_cwalks_A</td>\n",
       "    </tr>\n",
       "    <tr>\n",
       "      <th>3</th>\n",
       "      <td>496.000</td>\n",
       "      <td>141.000</td>\n",
       "      <td>20.000</td>\n",
       "      <td>65.000</td>\n",
       "      <td>78.000</td>\n",
       "      <td>37.000</td>\n",
       "      <td>11.000</td>\n",
       "      <td>5628.000</td>\n",
       "      <td>1575.000</td>\n",
       "      <td>225.000</td>\n",
       "      <td>828.000</td>\n",
       "      <td>838.000</td>\n",
       "      <td>354.000</td>\n",
       "      <td>1</td>\n",
       "      <td>0</td>\n",
       "      <td>200.000</td>\n",
       "      <td>11.000</td>\n",
       "      <td>3</td>\n",
       "      <td>500.000</td>\n",
       "      <td>1</td>\n",
       "      <td>9920.000</td>\n",
       "      <td>38688.000</td>\n",
       "      <td>1560.000</td>\n",
       "      <td>18352.000</td>\n",
       "      <td>740.000</td>\n",
       "      <td>2886.000</td>\n",
       "      <td>4500.000</td>\n",
       "      <td>17550.000</td>\n",
       "      <td>2475.000</td>\n",
       "      <td>33.000</td>\n",
       "      <td>high_experience</td>\n",
       "      <td>657.000</td>\n",
       "      <td>7203.000</td>\n",
       "      <td>1053.000</td>\n",
       "      <td>916.000</td>\n",
       "      <td>391.000</td>\n",
       "      <td>middle_level</td>\n",
       "      <td>low_assists_level_N</td>\n",
       "      <td>low_assists_level_N</td>\n",
       "      <td>low_assists_level_E</td>\n",
       "      <td>low_error_N</td>\n",
       "      <td>low_error_N</td>\n",
       "      <td>low_error_E</td>\n",
       "      <td>high_walks_E</td>\n",
       "      <td>high_cwalks_E</td>\n",
       "      <td>high_walks_N</td>\n",
       "      <td>high_cwalks_N</td>\n",
       "      <td>high_walks_N</td>\n",
       "      <td>high_cwalks_N</td>\n",
       "    </tr>\n",
       "    <tr>\n",
       "      <th>4</th>\n",
       "      <td>321.000</td>\n",
       "      <td>87.000</td>\n",
       "      <td>10.000</td>\n",
       "      <td>39.000</td>\n",
       "      <td>42.000</td>\n",
       "      <td>30.000</td>\n",
       "      <td>2.000</td>\n",
       "      <td>396.000</td>\n",
       "      <td>101.000</td>\n",
       "      <td>12.000</td>\n",
       "      <td>48.000</td>\n",
       "      <td>46.000</td>\n",
       "      <td>33.000</td>\n",
       "      <td>1</td>\n",
       "      <td>0</td>\n",
       "      <td>805.000</td>\n",
       "      <td>40.000</td>\n",
       "      <td>4</td>\n",
       "      <td>91.500</td>\n",
       "      <td>1</td>\n",
       "      <td>3210.000</td>\n",
       "      <td>13482.000</td>\n",
       "      <td>420.000</td>\n",
       "      <td>9630.000</td>\n",
       "      <td>300.000</td>\n",
       "      <td>1260.000</td>\n",
       "      <td>120.000</td>\n",
       "      <td>504.000</td>\n",
       "      <td>24.000</td>\n",
       "      <td>160.000</td>\n",
       "      <td>low_experience</td>\n",
       "      <td>418.000</td>\n",
       "      <td>497.000</td>\n",
       "      <td>60.000</td>\n",
       "      <td>88.000</td>\n",
       "      <td>63.000</td>\n",
       "      <td>high_level</td>\n",
       "      <td>high_assists_level_N</td>\n",
       "      <td>high_assists_level_N</td>\n",
       "      <td>high_assists_level_E</td>\n",
       "      <td>low_error_N</td>\n",
       "      <td>low_error_N</td>\n",
       "      <td>low_error_E</td>\n",
       "      <td>low_walks_E</td>\n",
       "      <td>low_cwalks_E</td>\n",
       "      <td>low_walks_N</td>\n",
       "      <td>low_cwalks_N</td>\n",
       "      <td>low_walks_N</td>\n",
       "      <td>low_cwalks_N</td>\n",
       "    </tr>\n",
       "  </tbody>\n",
       "</table>\n",
       "</div>"
      ],
      "text/plain": [
       "    atbat    hits  hmrun   runs    rbi  walks  years   catbat    chits  chmrun   cruns    crbi  cwalks  league  division  putouts  assists  errors  salary  newleague  new_hmrun_atbat  new_atbat_rbi  new_hmrun_rbi  new_atbat_walks  new_hmrun_walks  new_rbi_walks  nwe_hmrun_chumrun  new_rbi_chumrun  new_years_chumrun  new_assists_errors     new_experience  new_sum_hit  new_sum_ball_hits  new_total_scores  new_total_runners  new_total_errors new_putout_level        new_league_cat  \\\n",
       "0 293.000  66.000  1.000 30.000 29.000 14.000  1.000  293.000   66.000  40.000  30.000  29.000  14.000       0         0  446.000   33.000      20 425.000          0          293.000       8497.000         29.000         4102.000           14.000        406.000             40.000         1160.000             40.000             660.000     low_experience      360.000            359.000            70.000             58.000            28.000       high_level   low_assists_level_A   \n",
       "1 315.000  81.000  7.000 24.000 38.000 39.000 14.000 3449.000  835.000  69.000 321.000 414.000 375.000       1         1  632.000   43.000      10 475.000          1         2205.000      11970.000        266.000        12285.000          273.000       1482.000            483.000         2622.000            966.000             430.000    high_experience      403.000           4284.000           390.000            452.000           414.000       high_level  high_assists_level_N   \n",
       "2 479.000 130.000 18.000 66.000 72.000 76.000  3.000 1624.000  457.000  63.000 224.000 266.000 263.000       0         1  880.000   82.000      14 480.000          0         8622.000      34488.000       1296.000        36404.000         1368.000       5472.000           1134.000         4536.000            189.000            1148.000  middle_experience      627.000           2081.000           287.000            338.000           339.000       high_level  high_assists_level_A   \n",
       "3 496.000 141.000 20.000 65.000 78.000 37.000 11.000 5628.000 1575.000 225.000 828.000 838.000 354.000       1         0  200.000   11.000       3 500.000          1         9920.000      38688.000       1560.000        18352.000          740.000       2886.000           4500.000        17550.000           2475.000              33.000    high_experience      657.000           7203.000          1053.000            916.000           391.000     middle_level   low_assists_level_N   \n",
       "4 321.000  87.000 10.000 39.000 42.000 30.000  2.000  396.000  101.000  12.000  48.000  46.000  33.000       1         0  805.000   40.000       4  91.500          1         3210.000      13482.000        420.000         9630.000          300.000       1260.000            120.000          504.000             24.000             160.000     low_experience      418.000            497.000            60.000             88.000            63.000       high_level  high_assists_level_N   \n",
       "\n",
       "      new_newleague_cat      new_division_cat new_error_cat new_newerror_cat new_division_error new_division_walks new_division_cwalks new_league_walks new_league_cwalks new_newleague_walks new_newleague_cwalks  \n",
       "0   low_assists_level_A   low_assists_level_E  high_error_A     high_error_A       high_error_E        low_walks_E        low_cwalks_E      low_walks_A      low_cwalks_A         low_walks_A         low_cwalks_A  \n",
       "1  high_assists_level_N  high_assists_level_W  high_error_N     high_error_N       high_error_W       high_walks_W       high_cwalks_W     high_walks_N     high_cwalks_N        high_walks_N        high_cwalks_N  \n",
       "2  high_assists_level_A  high_assists_level_W  high_error_A     high_error_A       high_error_W       high_walks_W       high_cwalks_W     high_walks_A     high_cwalks_A        high_walks_A        high_cwalks_A  \n",
       "3   low_assists_level_N   low_assists_level_E   low_error_N      low_error_N        low_error_E       high_walks_E       high_cwalks_E     high_walks_N     high_cwalks_N        high_walks_N        high_cwalks_N  \n",
       "4  high_assists_level_N  high_assists_level_E   low_error_N      low_error_N        low_error_E        low_walks_E        low_cwalks_E      low_walks_N      low_cwalks_N         low_walks_N         low_cwalks_N  "
      ]
     },
     "execution_count": 529,
     "metadata": {},
     "output_type": "execute_result"
    }
   ],
   "source": [
    "df.head()"
   ]
  },
  {
   "cell_type": "markdown",
   "metadata": {},
   "source": [
    "### **Rare Encoding**"
   ]
  },
  {
   "cell_type": "code",
   "execution_count": 530,
   "metadata": {},
   "outputs": [],
   "source": [
    "def rare_analyser(dataframe, target, categoric_cols):\n",
    "    for col in categoric_cols:\n",
    "        print(col, ':', len(dataframe[col].value_counts()))\n",
    "        print(pd.DataFrame({\n",
    "            'count': dataframe[col].value_counts(),\n",
    "            'ratio': dataframe[col].value_counts()/len(dataframe),\n",
    "            'target_mean': dataframe.groupby(col)[target].mean()\n",
    "        }), end = '\\n\\n')"
   ]
  },
  {
   "cell_type": "code",
   "execution_count": 531,
   "metadata": {},
   "outputs": [
    {
     "name": "stdout",
     "output_type": "stream",
     "text": [
      "league : 2\n",
      "   count  ratio  target_mean\n",
      "0    175  0.543      516.660\n",
      "1    147  0.457      512.827\n",
      "\n",
      "division : 2\n",
      "   count  ratio  target_mean\n",
      "0    157  0.488      587.315\n",
      "1    165  0.512      446.015\n",
      "\n",
      "newleague : 2\n",
      "   count  ratio  target_mean\n",
      "0    176  0.547      513.554\n",
      "1    146  0.453      516.545\n",
      "\n",
      "new_experience : 3\n",
      "                   count  ratio  target_mean\n",
      "low_experience        47  0.146      232.507\n",
      "middle_experience    162  0.503      476.907\n",
      "high_experience      113  0.351      686.851\n",
      "\n",
      "new_putout_level : 3\n",
      "              count  ratio  target_mean\n",
      "bad_level       108  0.335      422.883\n",
      "middle_level    107  0.332      469.456\n",
      "high_level      107  0.332      653.251\n",
      "\n",
      "new_league_cat : 4\n",
      "                      count  ratio  target_mean\n",
      "high_assists_level_A     83  0.258      533.146\n",
      "high_assists_level_N     78  0.242      553.191\n",
      "low_assists_level_A      92  0.286      501.786\n",
      "low_assists_level_N      69  0.214      467.198\n",
      "\n",
      "new_newleague_cat : 4\n",
      "                      count  ratio  target_mean\n",
      "high_assists_level_A     85  0.264      523.837\n",
      "high_assists_level_N     76  0.236      564.130\n",
      "low_assists_level_A      91  0.283      503.948\n",
      "low_assists_level_N      70  0.217      464.881\n",
      "\n",
      "new_division_cat : 4\n",
      "                      count  ratio  target_mean\n",
      "high_assists_level_E     80  0.248      627.138\n",
      "high_assists_level_W     81  0.252      459.617\n",
      "low_assists_level_E      77  0.239      545.941\n",
      "low_assists_level_W      84  0.261      432.899\n",
      "\n",
      "new_error_cat : 4\n",
      "              count  ratio  target_mean\n",
      "high_error_A     80  0.248      516.608\n",
      "high_error_N     77  0.239      532.778\n",
      "low_error_A      95  0.295      516.703\n",
      "low_error_N      70  0.217      490.881\n",
      "\n",
      "new_newerror_cat : 4\n",
      "              count  ratio  target_mean\n",
      "high_error_A     84  0.261      521.651\n",
      "high_error_N     73  0.227      527.862\n",
      "low_error_A      92  0.286      506.161\n",
      "low_error_N      73  0.227      505.228\n",
      "\n",
      "new_division_error : 4\n",
      "              count  ratio  target_mean\n",
      "high_error_E     76  0.236      598.073\n",
      "high_error_W     81  0.252      455.543\n",
      "low_error_E      81  0.252      577.222\n",
      "low_error_W      84  0.261      436.827\n",
      "\n",
      "new_division_walks : 4\n",
      "              count  ratio  target_mean\n",
      "high_walks_E     81  0.252      781.364\n",
      "high_walks_W     74  0.230      532.887\n",
      "low_walks_E      76  0.236      380.500\n",
      "low_walks_W      91  0.283      375.372\n",
      "\n",
      "new_division_cwalks : 4\n",
      "               count  ratio  target_mean\n",
      "high_cwalks_E     80  0.248      804.038\n",
      "high_cwalks_W     80  0.248      615.417\n",
      "low_cwalks_E      77  0.239      362.149\n",
      "low_cwalks_W      85  0.264      286.578\n",
      "\n",
      "new_league_walks : 4\n",
      "              count  ratio  target_mean\n",
      "high_walks_A     86  0.267      681.431\n",
      "high_walks_N     69  0.214      639.436\n",
      "low_walks_A      89  0.276      357.442\n",
      "low_walks_N      78  0.242      400.827\n",
      "\n",
      "new_league_cwalks : 4\n",
      "               count  ratio  target_mean\n",
      "high_cwalks_A     88  0.273      716.045\n",
      "high_cwalks_N     72  0.224      702.006\n",
      "low_cwalks_A      87  0.270      314.983\n",
      "low_cwalks_N      75  0.233      331.216\n",
      "\n",
      "new_newleague_walks : 4\n",
      "              count  ratio  target_mean\n",
      "high_walks_A     86  0.267      681.490\n",
      "high_walks_N     69  0.214      639.363\n",
      "low_walks_A      90  0.280      353.081\n",
      "low_walks_N      77  0.239      406.487\n",
      "\n",
      "new_newleague_cwalks : 4\n",
      "               count  ratio  target_mean\n",
      "high_cwalks_A     90  0.280      699.133\n",
      "high_cwalks_N     70  0.217      723.349\n",
      "low_cwalks_A      86  0.267      319.343\n",
      "low_cwalks_N      76  0.236      326.068\n",
      "\n"
     ]
    }
   ],
   "source": [
    "rare_analyser(df, 'salary', cat_cols)"
   ]
  },
  {
   "cell_type": "markdown",
   "metadata": {},
   "source": [
    "Nadir deger olmadigindan, rare_encoder fonksiyonu calistirilmamistir."
   ]
  },
  {
   "cell_type": "markdown",
   "metadata": {},
   "source": [
    "### **One Hot Encoding**"
   ]
  },
  {
   "cell_type": "code",
   "execution_count": 532,
   "metadata": {},
   "outputs": [],
   "source": [
    "def one_hot_encoder(dataframe, categorical_cols, drop_first = True):\n",
    "    dataframe = pd.get_dummies(dataframe, columns = categorical_cols, drop_first = drop_first)\n",
    "    return dataframe"
   ]
  },
  {
   "cell_type": "code",
   "execution_count": 533,
   "metadata": {},
   "outputs": [
    {
     "data": {
      "text/plain": [
       "['new_experience',\n",
       " 'new_putout_level',\n",
       " 'new_league_cat',\n",
       " 'new_newleague_cat',\n",
       " 'new_division_cat',\n",
       " 'new_error_cat',\n",
       " 'new_newerror_cat',\n",
       " 'new_division_error',\n",
       " 'new_division_walks',\n",
       " 'new_division_cwalks',\n",
       " 'new_league_walks',\n",
       " 'new_league_cwalks',\n",
       " 'new_newleague_walks',\n",
       " 'new_newleague_cwalks']"
      ]
     },
     "execution_count": 533,
     "metadata": {},
     "output_type": "execute_result"
    }
   ],
   "source": [
    "ohe_cols = [col for col in df.columns if 10 >= df[col].nunique() > 2]\n",
    "ohe_cols"
   ]
  },
  {
   "cell_type": "code",
   "execution_count": 534,
   "metadata": {},
   "outputs": [
    {
     "data": {
      "text/html": [
       "<div>\n",
       "<style scoped>\n",
       "    .dataframe tbody tr th:only-of-type {\n",
       "        vertical-align: middle;\n",
       "    }\n",
       "\n",
       "    .dataframe tbody tr th {\n",
       "        vertical-align: top;\n",
       "    }\n",
       "\n",
       "    .dataframe thead th {\n",
       "        text-align: right;\n",
       "    }\n",
       "</style>\n",
       "<table border=\"1\" class=\"dataframe\">\n",
       "  <thead>\n",
       "    <tr style=\"text-align: right;\">\n",
       "      <th></th>\n",
       "      <th>atbat</th>\n",
       "      <th>hits</th>\n",
       "      <th>hmrun</th>\n",
       "      <th>runs</th>\n",
       "      <th>rbi</th>\n",
       "      <th>walks</th>\n",
       "      <th>years</th>\n",
       "      <th>catbat</th>\n",
       "      <th>chits</th>\n",
       "      <th>chmrun</th>\n",
       "      <th>cruns</th>\n",
       "      <th>crbi</th>\n",
       "      <th>cwalks</th>\n",
       "      <th>league</th>\n",
       "      <th>division</th>\n",
       "      <th>putouts</th>\n",
       "      <th>assists</th>\n",
       "      <th>errors</th>\n",
       "      <th>salary</th>\n",
       "      <th>newleague</th>\n",
       "      <th>new_hmrun_atbat</th>\n",
       "      <th>new_atbat_rbi</th>\n",
       "      <th>new_hmrun_rbi</th>\n",
       "      <th>new_atbat_walks</th>\n",
       "      <th>new_hmrun_walks</th>\n",
       "      <th>new_rbi_walks</th>\n",
       "      <th>nwe_hmrun_chumrun</th>\n",
       "      <th>new_rbi_chumrun</th>\n",
       "      <th>new_years_chumrun</th>\n",
       "      <th>new_assists_errors</th>\n",
       "      <th>new_sum_hit</th>\n",
       "      <th>new_sum_ball_hits</th>\n",
       "      <th>new_total_scores</th>\n",
       "      <th>new_total_runners</th>\n",
       "      <th>new_total_errors</th>\n",
       "      <th>new_experience_middle_experience</th>\n",
       "      <th>new_experience_high_experience</th>\n",
       "      <th>new_putout_level_middle_level</th>\n",
       "      <th>new_putout_level_high_level</th>\n",
       "      <th>new_league_cat_high_assists_level_N</th>\n",
       "      <th>new_league_cat_low_assists_level_A</th>\n",
       "      <th>new_league_cat_low_assists_level_N</th>\n",
       "      <th>new_newleague_cat_high_assists_level_N</th>\n",
       "      <th>new_newleague_cat_low_assists_level_A</th>\n",
       "      <th>new_newleague_cat_low_assists_level_N</th>\n",
       "      <th>new_division_cat_high_assists_level_W</th>\n",
       "      <th>new_division_cat_low_assists_level_E</th>\n",
       "      <th>new_division_cat_low_assists_level_W</th>\n",
       "      <th>new_error_cat_high_error_N</th>\n",
       "      <th>new_error_cat_low_error_A</th>\n",
       "      <th>new_error_cat_low_error_N</th>\n",
       "      <th>new_newerror_cat_high_error_N</th>\n",
       "      <th>new_newerror_cat_low_error_A</th>\n",
       "      <th>new_newerror_cat_low_error_N</th>\n",
       "      <th>new_division_error_high_error_W</th>\n",
       "      <th>new_division_error_low_error_E</th>\n",
       "      <th>new_division_error_low_error_W</th>\n",
       "      <th>new_division_walks_high_walks_W</th>\n",
       "      <th>new_division_walks_low_walks_E</th>\n",
       "      <th>new_division_walks_low_walks_W</th>\n",
       "      <th>new_division_cwalks_high_cwalks_W</th>\n",
       "      <th>new_division_cwalks_low_cwalks_E</th>\n",
       "      <th>new_division_cwalks_low_cwalks_W</th>\n",
       "      <th>new_league_walks_high_walks_N</th>\n",
       "      <th>new_league_walks_low_walks_A</th>\n",
       "      <th>new_league_walks_low_walks_N</th>\n",
       "      <th>new_league_cwalks_high_cwalks_N</th>\n",
       "      <th>new_league_cwalks_low_cwalks_A</th>\n",
       "      <th>new_league_cwalks_low_cwalks_N</th>\n",
       "      <th>new_newleague_walks_high_walks_N</th>\n",
       "      <th>new_newleague_walks_low_walks_A</th>\n",
       "      <th>new_newleague_walks_low_walks_N</th>\n",
       "      <th>new_newleague_cwalks_high_cwalks_N</th>\n",
       "      <th>new_newleague_cwalks_low_cwalks_A</th>\n",
       "      <th>new_newleague_cwalks_low_cwalks_N</th>\n",
       "    </tr>\n",
       "  </thead>\n",
       "  <tbody>\n",
       "    <tr>\n",
       "      <th>0</th>\n",
       "      <td>293.000</td>\n",
       "      <td>66.000</td>\n",
       "      <td>1.000</td>\n",
       "      <td>30.000</td>\n",
       "      <td>29.000</td>\n",
       "      <td>14.000</td>\n",
       "      <td>1.000</td>\n",
       "      <td>293.000</td>\n",
       "      <td>66.000</td>\n",
       "      <td>40.000</td>\n",
       "      <td>30.000</td>\n",
       "      <td>29.000</td>\n",
       "      <td>14.000</td>\n",
       "      <td>0</td>\n",
       "      <td>0</td>\n",
       "      <td>446.000</td>\n",
       "      <td>33.000</td>\n",
       "      <td>20</td>\n",
       "      <td>425.000</td>\n",
       "      <td>0</td>\n",
       "      <td>293.000</td>\n",
       "      <td>8497.000</td>\n",
       "      <td>29.000</td>\n",
       "      <td>4102.000</td>\n",
       "      <td>14.000</td>\n",
       "      <td>406.000</td>\n",
       "      <td>40.000</td>\n",
       "      <td>1160.000</td>\n",
       "      <td>40.000</td>\n",
       "      <td>660.000</td>\n",
       "      <td>360.000</td>\n",
       "      <td>359.000</td>\n",
       "      <td>70.000</td>\n",
       "      <td>58.000</td>\n",
       "      <td>28.000</td>\n",
       "      <td>0</td>\n",
       "      <td>0</td>\n",
       "      <td>0</td>\n",
       "      <td>1</td>\n",
       "      <td>0</td>\n",
       "      <td>1</td>\n",
       "      <td>0</td>\n",
       "      <td>0</td>\n",
       "      <td>1</td>\n",
       "      <td>0</td>\n",
       "      <td>0</td>\n",
       "      <td>1</td>\n",
       "      <td>0</td>\n",
       "      <td>0</td>\n",
       "      <td>0</td>\n",
       "      <td>0</td>\n",
       "      <td>0</td>\n",
       "      <td>0</td>\n",
       "      <td>0</td>\n",
       "      <td>0</td>\n",
       "      <td>0</td>\n",
       "      <td>0</td>\n",
       "      <td>0</td>\n",
       "      <td>1</td>\n",
       "      <td>0</td>\n",
       "      <td>0</td>\n",
       "      <td>1</td>\n",
       "      <td>0</td>\n",
       "      <td>0</td>\n",
       "      <td>1</td>\n",
       "      <td>0</td>\n",
       "      <td>0</td>\n",
       "      <td>1</td>\n",
       "      <td>0</td>\n",
       "      <td>0</td>\n",
       "      <td>1</td>\n",
       "      <td>0</td>\n",
       "      <td>0</td>\n",
       "      <td>1</td>\n",
       "      <td>0</td>\n",
       "    </tr>\n",
       "    <tr>\n",
       "      <th>1</th>\n",
       "      <td>315.000</td>\n",
       "      <td>81.000</td>\n",
       "      <td>7.000</td>\n",
       "      <td>24.000</td>\n",
       "      <td>38.000</td>\n",
       "      <td>39.000</td>\n",
       "      <td>14.000</td>\n",
       "      <td>3449.000</td>\n",
       "      <td>835.000</td>\n",
       "      <td>69.000</td>\n",
       "      <td>321.000</td>\n",
       "      <td>414.000</td>\n",
       "      <td>375.000</td>\n",
       "      <td>1</td>\n",
       "      <td>1</td>\n",
       "      <td>632.000</td>\n",
       "      <td>43.000</td>\n",
       "      <td>10</td>\n",
       "      <td>475.000</td>\n",
       "      <td>1</td>\n",
       "      <td>2205.000</td>\n",
       "      <td>11970.000</td>\n",
       "      <td>266.000</td>\n",
       "      <td>12285.000</td>\n",
       "      <td>273.000</td>\n",
       "      <td>1482.000</td>\n",
       "      <td>483.000</td>\n",
       "      <td>2622.000</td>\n",
       "      <td>966.000</td>\n",
       "      <td>430.000</td>\n",
       "      <td>403.000</td>\n",
       "      <td>4284.000</td>\n",
       "      <td>390.000</td>\n",
       "      <td>452.000</td>\n",
       "      <td>414.000</td>\n",
       "      <td>0</td>\n",
       "      <td>1</td>\n",
       "      <td>0</td>\n",
       "      <td>1</td>\n",
       "      <td>1</td>\n",
       "      <td>0</td>\n",
       "      <td>0</td>\n",
       "      <td>1</td>\n",
       "      <td>0</td>\n",
       "      <td>0</td>\n",
       "      <td>1</td>\n",
       "      <td>0</td>\n",
       "      <td>0</td>\n",
       "      <td>1</td>\n",
       "      <td>0</td>\n",
       "      <td>0</td>\n",
       "      <td>1</td>\n",
       "      <td>0</td>\n",
       "      <td>0</td>\n",
       "      <td>1</td>\n",
       "      <td>0</td>\n",
       "      <td>0</td>\n",
       "      <td>1</td>\n",
       "      <td>0</td>\n",
       "      <td>0</td>\n",
       "      <td>1</td>\n",
       "      <td>0</td>\n",
       "      <td>0</td>\n",
       "      <td>1</td>\n",
       "      <td>0</td>\n",
       "      <td>0</td>\n",
       "      <td>1</td>\n",
       "      <td>0</td>\n",
       "      <td>0</td>\n",
       "      <td>1</td>\n",
       "      <td>0</td>\n",
       "      <td>0</td>\n",
       "      <td>1</td>\n",
       "      <td>0</td>\n",
       "      <td>0</td>\n",
       "    </tr>\n",
       "    <tr>\n",
       "      <th>2</th>\n",
       "      <td>479.000</td>\n",
       "      <td>130.000</td>\n",
       "      <td>18.000</td>\n",
       "      <td>66.000</td>\n",
       "      <td>72.000</td>\n",
       "      <td>76.000</td>\n",
       "      <td>3.000</td>\n",
       "      <td>1624.000</td>\n",
       "      <td>457.000</td>\n",
       "      <td>63.000</td>\n",
       "      <td>224.000</td>\n",
       "      <td>266.000</td>\n",
       "      <td>263.000</td>\n",
       "      <td>0</td>\n",
       "      <td>1</td>\n",
       "      <td>880.000</td>\n",
       "      <td>82.000</td>\n",
       "      <td>14</td>\n",
       "      <td>480.000</td>\n",
       "      <td>0</td>\n",
       "      <td>8622.000</td>\n",
       "      <td>34488.000</td>\n",
       "      <td>1296.000</td>\n",
       "      <td>36404.000</td>\n",
       "      <td>1368.000</td>\n",
       "      <td>5472.000</td>\n",
       "      <td>1134.000</td>\n",
       "      <td>4536.000</td>\n",
       "      <td>189.000</td>\n",
       "      <td>1148.000</td>\n",
       "      <td>627.000</td>\n",
       "      <td>2081.000</td>\n",
       "      <td>287.000</td>\n",
       "      <td>338.000</td>\n",
       "      <td>339.000</td>\n",
       "      <td>1</td>\n",
       "      <td>0</td>\n",
       "      <td>0</td>\n",
       "      <td>1</td>\n",
       "      <td>0</td>\n",
       "      <td>0</td>\n",
       "      <td>0</td>\n",
       "      <td>0</td>\n",
       "      <td>0</td>\n",
       "      <td>0</td>\n",
       "      <td>1</td>\n",
       "      <td>0</td>\n",
       "      <td>0</td>\n",
       "      <td>0</td>\n",
       "      <td>0</td>\n",
       "      <td>0</td>\n",
       "      <td>0</td>\n",
       "      <td>0</td>\n",
       "      <td>0</td>\n",
       "      <td>1</td>\n",
       "      <td>0</td>\n",
       "      <td>0</td>\n",
       "      <td>1</td>\n",
       "      <td>0</td>\n",
       "      <td>0</td>\n",
       "      <td>1</td>\n",
       "      <td>0</td>\n",
       "      <td>0</td>\n",
       "      <td>0</td>\n",
       "      <td>0</td>\n",
       "      <td>0</td>\n",
       "      <td>0</td>\n",
       "      <td>0</td>\n",
       "      <td>0</td>\n",
       "      <td>0</td>\n",
       "      <td>0</td>\n",
       "      <td>0</td>\n",
       "      <td>0</td>\n",
       "      <td>0</td>\n",
       "      <td>0</td>\n",
       "    </tr>\n",
       "    <tr>\n",
       "      <th>3</th>\n",
       "      <td>496.000</td>\n",
       "      <td>141.000</td>\n",
       "      <td>20.000</td>\n",
       "      <td>65.000</td>\n",
       "      <td>78.000</td>\n",
       "      <td>37.000</td>\n",
       "      <td>11.000</td>\n",
       "      <td>5628.000</td>\n",
       "      <td>1575.000</td>\n",
       "      <td>225.000</td>\n",
       "      <td>828.000</td>\n",
       "      <td>838.000</td>\n",
       "      <td>354.000</td>\n",
       "      <td>1</td>\n",
       "      <td>0</td>\n",
       "      <td>200.000</td>\n",
       "      <td>11.000</td>\n",
       "      <td>3</td>\n",
       "      <td>500.000</td>\n",
       "      <td>1</td>\n",
       "      <td>9920.000</td>\n",
       "      <td>38688.000</td>\n",
       "      <td>1560.000</td>\n",
       "      <td>18352.000</td>\n",
       "      <td>740.000</td>\n",
       "      <td>2886.000</td>\n",
       "      <td>4500.000</td>\n",
       "      <td>17550.000</td>\n",
       "      <td>2475.000</td>\n",
       "      <td>33.000</td>\n",
       "      <td>657.000</td>\n",
       "      <td>7203.000</td>\n",
       "      <td>1053.000</td>\n",
       "      <td>916.000</td>\n",
       "      <td>391.000</td>\n",
       "      <td>0</td>\n",
       "      <td>1</td>\n",
       "      <td>1</td>\n",
       "      <td>0</td>\n",
       "      <td>0</td>\n",
       "      <td>0</td>\n",
       "      <td>1</td>\n",
       "      <td>0</td>\n",
       "      <td>0</td>\n",
       "      <td>1</td>\n",
       "      <td>0</td>\n",
       "      <td>1</td>\n",
       "      <td>0</td>\n",
       "      <td>0</td>\n",
       "      <td>0</td>\n",
       "      <td>1</td>\n",
       "      <td>0</td>\n",
       "      <td>0</td>\n",
       "      <td>1</td>\n",
       "      <td>0</td>\n",
       "      <td>1</td>\n",
       "      <td>0</td>\n",
       "      <td>0</td>\n",
       "      <td>0</td>\n",
       "      <td>0</td>\n",
       "      <td>0</td>\n",
       "      <td>0</td>\n",
       "      <td>0</td>\n",
       "      <td>1</td>\n",
       "      <td>0</td>\n",
       "      <td>0</td>\n",
       "      <td>1</td>\n",
       "      <td>0</td>\n",
       "      <td>0</td>\n",
       "      <td>1</td>\n",
       "      <td>0</td>\n",
       "      <td>0</td>\n",
       "      <td>1</td>\n",
       "      <td>0</td>\n",
       "      <td>0</td>\n",
       "    </tr>\n",
       "    <tr>\n",
       "      <th>4</th>\n",
       "      <td>321.000</td>\n",
       "      <td>87.000</td>\n",
       "      <td>10.000</td>\n",
       "      <td>39.000</td>\n",
       "      <td>42.000</td>\n",
       "      <td>30.000</td>\n",
       "      <td>2.000</td>\n",
       "      <td>396.000</td>\n",
       "      <td>101.000</td>\n",
       "      <td>12.000</td>\n",
       "      <td>48.000</td>\n",
       "      <td>46.000</td>\n",
       "      <td>33.000</td>\n",
       "      <td>1</td>\n",
       "      <td>0</td>\n",
       "      <td>805.000</td>\n",
       "      <td>40.000</td>\n",
       "      <td>4</td>\n",
       "      <td>91.500</td>\n",
       "      <td>1</td>\n",
       "      <td>3210.000</td>\n",
       "      <td>13482.000</td>\n",
       "      <td>420.000</td>\n",
       "      <td>9630.000</td>\n",
       "      <td>300.000</td>\n",
       "      <td>1260.000</td>\n",
       "      <td>120.000</td>\n",
       "      <td>504.000</td>\n",
       "      <td>24.000</td>\n",
       "      <td>160.000</td>\n",
       "      <td>418.000</td>\n",
       "      <td>497.000</td>\n",
       "      <td>60.000</td>\n",
       "      <td>88.000</td>\n",
       "      <td>63.000</td>\n",
       "      <td>0</td>\n",
       "      <td>0</td>\n",
       "      <td>0</td>\n",
       "      <td>1</td>\n",
       "      <td>1</td>\n",
       "      <td>0</td>\n",
       "      <td>0</td>\n",
       "      <td>1</td>\n",
       "      <td>0</td>\n",
       "      <td>0</td>\n",
       "      <td>0</td>\n",
       "      <td>0</td>\n",
       "      <td>0</td>\n",
       "      <td>0</td>\n",
       "      <td>0</td>\n",
       "      <td>1</td>\n",
       "      <td>0</td>\n",
       "      <td>0</td>\n",
       "      <td>1</td>\n",
       "      <td>0</td>\n",
       "      <td>1</td>\n",
       "      <td>0</td>\n",
       "      <td>0</td>\n",
       "      <td>1</td>\n",
       "      <td>0</td>\n",
       "      <td>0</td>\n",
       "      <td>1</td>\n",
       "      <td>0</td>\n",
       "      <td>0</td>\n",
       "      <td>0</td>\n",
       "      <td>1</td>\n",
       "      <td>0</td>\n",
       "      <td>0</td>\n",
       "      <td>1</td>\n",
       "      <td>0</td>\n",
       "      <td>0</td>\n",
       "      <td>1</td>\n",
       "      <td>0</td>\n",
       "      <td>0</td>\n",
       "      <td>1</td>\n",
       "    </tr>\n",
       "  </tbody>\n",
       "</table>\n",
       "</div>"
      ],
      "text/plain": [
       "    atbat    hits  hmrun   runs    rbi  walks  years   catbat    chits  chmrun   cruns    crbi  cwalks  league  division  putouts  assists  errors  salary  newleague  new_hmrun_atbat  new_atbat_rbi  new_hmrun_rbi  new_atbat_walks  new_hmrun_walks  new_rbi_walks  nwe_hmrun_chumrun  new_rbi_chumrun  new_years_chumrun  new_assists_errors  new_sum_hit  new_sum_ball_hits  new_total_scores  new_total_runners  new_total_errors  new_experience_middle_experience  new_experience_high_experience  \\\n",
       "0 293.000  66.000  1.000 30.000 29.000 14.000  1.000  293.000   66.000  40.000  30.000  29.000  14.000       0         0  446.000   33.000      20 425.000          0          293.000       8497.000         29.000         4102.000           14.000        406.000             40.000         1160.000             40.000             660.000      360.000            359.000            70.000             58.000            28.000                                 0                               0   \n",
       "1 315.000  81.000  7.000 24.000 38.000 39.000 14.000 3449.000  835.000  69.000 321.000 414.000 375.000       1         1  632.000   43.000      10 475.000          1         2205.000      11970.000        266.000        12285.000          273.000       1482.000            483.000         2622.000            966.000             430.000      403.000           4284.000           390.000            452.000           414.000                                 0                               1   \n",
       "2 479.000 130.000 18.000 66.000 72.000 76.000  3.000 1624.000  457.000  63.000 224.000 266.000 263.000       0         1  880.000   82.000      14 480.000          0         8622.000      34488.000       1296.000        36404.000         1368.000       5472.000           1134.000         4536.000            189.000            1148.000      627.000           2081.000           287.000            338.000           339.000                                 1                               0   \n",
       "3 496.000 141.000 20.000 65.000 78.000 37.000 11.000 5628.000 1575.000 225.000 828.000 838.000 354.000       1         0  200.000   11.000       3 500.000          1         9920.000      38688.000       1560.000        18352.000          740.000       2886.000           4500.000        17550.000           2475.000              33.000      657.000           7203.000          1053.000            916.000           391.000                                 0                               1   \n",
       "4 321.000  87.000 10.000 39.000 42.000 30.000  2.000  396.000  101.000  12.000  48.000  46.000  33.000       1         0  805.000   40.000       4  91.500          1         3210.000      13482.000        420.000         9630.000          300.000       1260.000            120.000          504.000             24.000             160.000      418.000            497.000            60.000             88.000            63.000                                 0                               0   \n",
       "\n",
       "   new_putout_level_middle_level  new_putout_level_high_level  new_league_cat_high_assists_level_N  new_league_cat_low_assists_level_A  new_league_cat_low_assists_level_N  new_newleague_cat_high_assists_level_N  new_newleague_cat_low_assists_level_A  new_newleague_cat_low_assists_level_N  new_division_cat_high_assists_level_W  new_division_cat_low_assists_level_E  new_division_cat_low_assists_level_W  new_error_cat_high_error_N  new_error_cat_low_error_A  new_error_cat_low_error_N  \\\n",
       "0                              0                            1                                    0                                   1                                   0                                       0                                      1                                      0                                      0                                     1                                     0                           0                          0                          0   \n",
       "1                              0                            1                                    1                                   0                                   0                                       1                                      0                                      0                                      1                                     0                                     0                           1                          0                          0   \n",
       "2                              0                            1                                    0                                   0                                   0                                       0                                      0                                      0                                      1                                     0                                     0                           0                          0                          0   \n",
       "3                              1                            0                                    0                                   0                                   1                                       0                                      0                                      1                                      0                                     1                                     0                           0                          0                          1   \n",
       "4                              0                            1                                    1                                   0                                   0                                       1                                      0                                      0                                      0                                     0                                     0                           0                          0                          1   \n",
       "\n",
       "   new_newerror_cat_high_error_N  new_newerror_cat_low_error_A  new_newerror_cat_low_error_N  new_division_error_high_error_W  new_division_error_low_error_E  new_division_error_low_error_W  new_division_walks_high_walks_W  new_division_walks_low_walks_E  new_division_walks_low_walks_W  new_division_cwalks_high_cwalks_W  new_division_cwalks_low_cwalks_E  new_division_cwalks_low_cwalks_W  new_league_walks_high_walks_N  new_league_walks_low_walks_A  new_league_walks_low_walks_N  \\\n",
       "0                              0                             0                             0                                0                               0                               0                                0                               1                               0                                  0                                 1                                 0                              0                             1                             0   \n",
       "1                              1                             0                             0                                1                               0                               0                                1                               0                               0                                  1                                 0                                 0                              1                             0                             0   \n",
       "2                              0                             0                             0                                1                               0                               0                                1                               0                               0                                  1                                 0                                 0                              0                             0                             0   \n",
       "3                              0                             0                             1                                0                               1                               0                                0                               0                               0                                  0                                 0                                 0                              1                             0                             0   \n",
       "4                              0                             0                             1                                0                               1                               0                                0                               1                               0                                  0                                 1                                 0                              0                             0                             1   \n",
       "\n",
       "   new_league_cwalks_high_cwalks_N  new_league_cwalks_low_cwalks_A  new_league_cwalks_low_cwalks_N  new_newleague_walks_high_walks_N  new_newleague_walks_low_walks_A  new_newleague_walks_low_walks_N  new_newleague_cwalks_high_cwalks_N  new_newleague_cwalks_low_cwalks_A  new_newleague_cwalks_low_cwalks_N  \n",
       "0                                0                               1                               0                                 0                                1                                0                                   0                                  1                                  0  \n",
       "1                                1                               0                               0                                 1                                0                                0                                   1                                  0                                  0  \n",
       "2                                0                               0                               0                                 0                                0                                0                                   0                                  0                                  0  \n",
       "3                                1                               0                               0                                 1                                0                                0                                   1                                  0                                  0  \n",
       "4                                0                               0                               1                                 0                                0                                1                                   0                                  0                                  1  "
      ]
     },
     "execution_count": 534,
     "metadata": {},
     "output_type": "execute_result"
    }
   ],
   "source": [
    "df = one_hot_encoder(df, ohe_cols)\n",
    "df.head()"
   ]
  },
  {
   "cell_type": "markdown",
   "metadata": {},
   "source": [
    "### **Robust Scaler**"
   ]
  },
  {
   "cell_type": "code",
   "execution_count": 535,
   "metadata": {},
   "outputs": [],
   "source": [
    "for col in num_cols:\n",
    "    df[col] = RobustScaler().fit_transform(df[[col]])"
   ]
  },
  {
   "cell_type": "code",
   "execution_count": 536,
   "metadata": {},
   "outputs": [
    {
     "data": {
      "text/html": [
       "<div>\n",
       "<style scoped>\n",
       "    .dataframe tbody tr th:only-of-type {\n",
       "        vertical-align: middle;\n",
       "    }\n",
       "\n",
       "    .dataframe tbody tr th {\n",
       "        vertical-align: top;\n",
       "    }\n",
       "\n",
       "    .dataframe thead th {\n",
       "        text-align: right;\n",
       "    }\n",
       "</style>\n",
       "<table border=\"1\" class=\"dataframe\">\n",
       "  <thead>\n",
       "    <tr style=\"text-align: right;\">\n",
       "      <th></th>\n",
       "      <th>atbat</th>\n",
       "      <th>hits</th>\n",
       "      <th>hmrun</th>\n",
       "      <th>runs</th>\n",
       "      <th>rbi</th>\n",
       "      <th>walks</th>\n",
       "      <th>years</th>\n",
       "      <th>catbat</th>\n",
       "      <th>chits</th>\n",
       "      <th>chmrun</th>\n",
       "      <th>cruns</th>\n",
       "      <th>crbi</th>\n",
       "      <th>cwalks</th>\n",
       "      <th>league</th>\n",
       "      <th>division</th>\n",
       "      <th>putouts</th>\n",
       "      <th>assists</th>\n",
       "      <th>errors</th>\n",
       "      <th>salary</th>\n",
       "      <th>newleague</th>\n",
       "      <th>new_hmrun_atbat</th>\n",
       "      <th>new_atbat_rbi</th>\n",
       "      <th>new_hmrun_rbi</th>\n",
       "      <th>new_atbat_walks</th>\n",
       "      <th>new_hmrun_walks</th>\n",
       "      <th>new_rbi_walks</th>\n",
       "      <th>nwe_hmrun_chumrun</th>\n",
       "      <th>new_rbi_chumrun</th>\n",
       "      <th>new_years_chumrun</th>\n",
       "      <th>new_assists_errors</th>\n",
       "      <th>new_sum_hit</th>\n",
       "      <th>new_sum_ball_hits</th>\n",
       "      <th>new_total_scores</th>\n",
       "      <th>new_total_runners</th>\n",
       "      <th>new_total_errors</th>\n",
       "      <th>new_experience_middle_experience</th>\n",
       "      <th>new_experience_high_experience</th>\n",
       "      <th>new_putout_level_middle_level</th>\n",
       "      <th>new_putout_level_high_level</th>\n",
       "      <th>new_league_cat_high_assists_level_N</th>\n",
       "      <th>new_league_cat_low_assists_level_A</th>\n",
       "      <th>new_league_cat_low_assists_level_N</th>\n",
       "      <th>new_newleague_cat_high_assists_level_N</th>\n",
       "      <th>new_newleague_cat_low_assists_level_A</th>\n",
       "      <th>new_newleague_cat_low_assists_level_N</th>\n",
       "      <th>new_division_cat_high_assists_level_W</th>\n",
       "      <th>new_division_cat_low_assists_level_E</th>\n",
       "      <th>new_division_cat_low_assists_level_W</th>\n",
       "      <th>new_error_cat_high_error_N</th>\n",
       "      <th>new_error_cat_low_error_A</th>\n",
       "      <th>new_error_cat_low_error_N</th>\n",
       "      <th>new_newerror_cat_high_error_N</th>\n",
       "      <th>new_newerror_cat_low_error_A</th>\n",
       "      <th>new_newerror_cat_low_error_N</th>\n",
       "      <th>new_division_error_high_error_W</th>\n",
       "      <th>new_division_error_low_error_E</th>\n",
       "      <th>new_division_error_low_error_W</th>\n",
       "      <th>new_division_walks_high_walks_W</th>\n",
       "      <th>new_division_walks_low_walks_E</th>\n",
       "      <th>new_division_walks_low_walks_W</th>\n",
       "      <th>new_division_cwalks_high_cwalks_W</th>\n",
       "      <th>new_division_cwalks_low_cwalks_E</th>\n",
       "      <th>new_division_cwalks_low_cwalks_W</th>\n",
       "      <th>new_league_walks_high_walks_N</th>\n",
       "      <th>new_league_walks_low_walks_A</th>\n",
       "      <th>new_league_walks_low_walks_N</th>\n",
       "      <th>new_league_cwalks_high_cwalks_N</th>\n",
       "      <th>new_league_cwalks_low_cwalks_A</th>\n",
       "      <th>new_league_cwalks_low_cwalks_N</th>\n",
       "      <th>new_newleague_walks_high_walks_N</th>\n",
       "      <th>new_newleague_walks_low_walks_A</th>\n",
       "      <th>new_newleague_walks_low_walks_N</th>\n",
       "      <th>new_newleague_cwalks_high_cwalks_N</th>\n",
       "      <th>new_newleague_cwalks_low_cwalks_A</th>\n",
       "      <th>new_newleague_cwalks_low_cwalks_N</th>\n",
       "    </tr>\n",
       "  </thead>\n",
       "  <tbody>\n",
       "    <tr>\n",
       "      <th>0</th>\n",
       "      <td>-0.337</td>\n",
       "      <td>-0.412</td>\n",
       "      <td>-0.583</td>\n",
       "      <td>-0.474</td>\n",
       "      <td>-0.420</td>\n",
       "      <td>-0.677</td>\n",
       "      <td>-0.714</td>\n",
       "      <td>-0.526</td>\n",
       "      <td>-0.520</td>\n",
       "      <td>0.000</td>\n",
       "      <td>-0.510</td>\n",
       "      <td>-0.576</td>\n",
       "      <td>-0.581</td>\n",
       "      <td>0</td>\n",
       "      <td>0</td>\n",
       "      <td>1.135</td>\n",
       "      <td>-0.041</td>\n",
       "      <td>1.750</td>\n",
       "      <td>0.000</td>\n",
       "      <td>0</td>\n",
       "      <td>-0.405</td>\n",
       "      <td>-0.310</td>\n",
       "      <td>-0.302</td>\n",
       "      <td>-0.454</td>\n",
       "      <td>-0.463</td>\n",
       "      <td>-0.466</td>\n",
       "      <td>-0.243</td>\n",
       "      <td>-0.117</td>\n",
       "      <td>-0.248</td>\n",
       "      <td>0.270</td>\n",
       "      <td>-0.390</td>\n",
       "      <td>-0.528</td>\n",
       "      <td>-0.470</td>\n",
       "      <td>-0.645</td>\n",
       "      <td>-0.643</td>\n",
       "      <td>0</td>\n",
       "      <td>0</td>\n",
       "      <td>0</td>\n",
       "      <td>1</td>\n",
       "      <td>0</td>\n",
       "      <td>1</td>\n",
       "      <td>0</td>\n",
       "      <td>0</td>\n",
       "      <td>1</td>\n",
       "      <td>0</td>\n",
       "      <td>0</td>\n",
       "      <td>1</td>\n",
       "      <td>0</td>\n",
       "      <td>0</td>\n",
       "      <td>0</td>\n",
       "      <td>0</td>\n",
       "      <td>0</td>\n",
       "      <td>0</td>\n",
       "      <td>0</td>\n",
       "      <td>0</td>\n",
       "      <td>0</td>\n",
       "      <td>0</td>\n",
       "      <td>0</td>\n",
       "      <td>1</td>\n",
       "      <td>0</td>\n",
       "      <td>0</td>\n",
       "      <td>1</td>\n",
       "      <td>0</td>\n",
       "      <td>0</td>\n",
       "      <td>1</td>\n",
       "      <td>0</td>\n",
       "      <td>0</td>\n",
       "      <td>1</td>\n",
       "      <td>0</td>\n",
       "      <td>0</td>\n",
       "      <td>1</td>\n",
       "      <td>0</td>\n",
       "      <td>0</td>\n",
       "      <td>1</td>\n",
       "      <td>0</td>\n",
       "    </tr>\n",
       "    <tr>\n",
       "      <th>1</th>\n",
       "      <td>-0.251</td>\n",
       "      <td>-0.206</td>\n",
       "      <td>-0.083</td>\n",
       "      <td>-0.632</td>\n",
       "      <td>-0.168</td>\n",
       "      <td>0.129</td>\n",
       "      <td>1.143</td>\n",
       "      <td>0.489</td>\n",
       "      <td>0.385</td>\n",
       "      <td>0.393</td>\n",
       "      <td>0.174</td>\n",
       "      <td>0.573</td>\n",
       "      <td>0.751</td>\n",
       "      <td>1</td>\n",
       "      <td>1</td>\n",
       "      <td>2.095</td>\n",
       "      <td>0.022</td>\n",
       "      <td>0.500</td>\n",
       "      <td>0.106</td>\n",
       "      <td>1</td>\n",
       "      <td>-0.094</td>\n",
       "      <td>-0.179</td>\n",
       "      <td>-0.043</td>\n",
       "      <td>-0.056</td>\n",
       "      <td>-0.044</td>\n",
       "      <td>-0.034</td>\n",
       "      <td>0.142</td>\n",
       "      <td>0.197</td>\n",
       "      <td>1.041</td>\n",
       "      <td>0.137</td>\n",
       "      <td>-0.262</td>\n",
       "      <td>0.472</td>\n",
       "      <td>0.188</td>\n",
       "      <td>0.465</td>\n",
       "      <td>0.725</td>\n",
       "      <td>0</td>\n",
       "      <td>1</td>\n",
       "      <td>0</td>\n",
       "      <td>1</td>\n",
       "      <td>1</td>\n",
       "      <td>0</td>\n",
       "      <td>0</td>\n",
       "      <td>1</td>\n",
       "      <td>0</td>\n",
       "      <td>0</td>\n",
       "      <td>1</td>\n",
       "      <td>0</td>\n",
       "      <td>0</td>\n",
       "      <td>1</td>\n",
       "      <td>0</td>\n",
       "      <td>0</td>\n",
       "      <td>1</td>\n",
       "      <td>0</td>\n",
       "      <td>0</td>\n",
       "      <td>1</td>\n",
       "      <td>0</td>\n",
       "      <td>0</td>\n",
       "      <td>1</td>\n",
       "      <td>0</td>\n",
       "      <td>0</td>\n",
       "      <td>1</td>\n",
       "      <td>0</td>\n",
       "      <td>0</td>\n",
       "      <td>1</td>\n",
       "      <td>0</td>\n",
       "      <td>0</td>\n",
       "      <td>1</td>\n",
       "      <td>0</td>\n",
       "      <td>0</td>\n",
       "      <td>1</td>\n",
       "      <td>0</td>\n",
       "      <td>0</td>\n",
       "      <td>1</td>\n",
       "      <td>0</td>\n",
       "      <td>0</td>\n",
       "    </tr>\n",
       "    <tr>\n",
       "      <th>2</th>\n",
       "      <td>0.388</td>\n",
       "      <td>0.467</td>\n",
       "      <td>0.833</td>\n",
       "      <td>0.474</td>\n",
       "      <td>0.783</td>\n",
       "      <td>1.323</td>\n",
       "      <td>-0.429</td>\n",
       "      <td>-0.098</td>\n",
       "      <td>-0.060</td>\n",
       "      <td>0.312</td>\n",
       "      <td>-0.054</td>\n",
       "      <td>0.131</td>\n",
       "      <td>0.338</td>\n",
       "      <td>0</td>\n",
       "      <td>1</td>\n",
       "      <td>3.375</td>\n",
       "      <td>0.267</td>\n",
       "      <td>1.000</td>\n",
       "      <td>0.116</td>\n",
       "      <td>0</td>\n",
       "      <td>0.947</td>\n",
       "      <td>0.670</td>\n",
       "      <td>1.082</td>\n",
       "      <td>1.116</td>\n",
       "      <td>1.730</td>\n",
       "      <td>1.570</td>\n",
       "      <td>0.707</td>\n",
       "      <td>0.609</td>\n",
       "      <td>-0.040</td>\n",
       "      <td>0.553</td>\n",
       "      <td>0.405</td>\n",
       "      <td>-0.090</td>\n",
       "      <td>-0.024</td>\n",
       "      <td>0.144</td>\n",
       "      <td>0.459</td>\n",
       "      <td>1</td>\n",
       "      <td>0</td>\n",
       "      <td>0</td>\n",
       "      <td>1</td>\n",
       "      <td>0</td>\n",
       "      <td>0</td>\n",
       "      <td>0</td>\n",
       "      <td>0</td>\n",
       "      <td>0</td>\n",
       "      <td>0</td>\n",
       "      <td>1</td>\n",
       "      <td>0</td>\n",
       "      <td>0</td>\n",
       "      <td>0</td>\n",
       "      <td>0</td>\n",
       "      <td>0</td>\n",
       "      <td>0</td>\n",
       "      <td>0</td>\n",
       "      <td>0</td>\n",
       "      <td>1</td>\n",
       "      <td>0</td>\n",
       "      <td>0</td>\n",
       "      <td>1</td>\n",
       "      <td>0</td>\n",
       "      <td>0</td>\n",
       "      <td>1</td>\n",
       "      <td>0</td>\n",
       "      <td>0</td>\n",
       "      <td>0</td>\n",
       "      <td>0</td>\n",
       "      <td>0</td>\n",
       "      <td>0</td>\n",
       "      <td>0</td>\n",
       "      <td>0</td>\n",
       "      <td>0</td>\n",
       "      <td>0</td>\n",
       "      <td>0</td>\n",
       "      <td>0</td>\n",
       "      <td>0</td>\n",
       "      <td>0</td>\n",
       "    </tr>\n",
       "    <tr>\n",
       "      <th>3</th>\n",
       "      <td>0.454</td>\n",
       "      <td>0.619</td>\n",
       "      <td>1.000</td>\n",
       "      <td>0.447</td>\n",
       "      <td>0.951</td>\n",
       "      <td>0.065</td>\n",
       "      <td>0.714</td>\n",
       "      <td>1.191</td>\n",
       "      <td>1.255</td>\n",
       "      <td>2.508</td>\n",
       "      <td>1.366</td>\n",
       "      <td>1.839</td>\n",
       "      <td>0.673</td>\n",
       "      <td>1</td>\n",
       "      <td>0</td>\n",
       "      <td>-0.134</td>\n",
       "      <td>-0.179</td>\n",
       "      <td>-0.375</td>\n",
       "      <td>0.158</td>\n",
       "      <td>1</td>\n",
       "      <td>1.158</td>\n",
       "      <td>0.829</td>\n",
       "      <td>1.370</td>\n",
       "      <td>0.239</td>\n",
       "      <td>0.713</td>\n",
       "      <td>0.531</td>\n",
       "      <td>3.631</td>\n",
       "      <td>3.410</td>\n",
       "      <td>3.140</td>\n",
       "      <td>-0.093</td>\n",
       "      <td>0.495</td>\n",
       "      <td>1.215</td>\n",
       "      <td>1.553</td>\n",
       "      <td>1.772</td>\n",
       "      <td>0.643</td>\n",
       "      <td>0</td>\n",
       "      <td>1</td>\n",
       "      <td>1</td>\n",
       "      <td>0</td>\n",
       "      <td>0</td>\n",
       "      <td>0</td>\n",
       "      <td>1</td>\n",
       "      <td>0</td>\n",
       "      <td>0</td>\n",
       "      <td>1</td>\n",
       "      <td>0</td>\n",
       "      <td>1</td>\n",
       "      <td>0</td>\n",
       "      <td>0</td>\n",
       "      <td>0</td>\n",
       "      <td>1</td>\n",
       "      <td>0</td>\n",
       "      <td>0</td>\n",
       "      <td>1</td>\n",
       "      <td>0</td>\n",
       "      <td>1</td>\n",
       "      <td>0</td>\n",
       "      <td>0</td>\n",
       "      <td>0</td>\n",
       "      <td>0</td>\n",
       "      <td>0</td>\n",
       "      <td>0</td>\n",
       "      <td>0</td>\n",
       "      <td>1</td>\n",
       "      <td>0</td>\n",
       "      <td>0</td>\n",
       "      <td>1</td>\n",
       "      <td>0</td>\n",
       "      <td>0</td>\n",
       "      <td>1</td>\n",
       "      <td>0</td>\n",
       "      <td>0</td>\n",
       "      <td>1</td>\n",
       "      <td>0</td>\n",
       "      <td>0</td>\n",
       "    </tr>\n",
       "    <tr>\n",
       "      <th>4</th>\n",
       "      <td>-0.228</td>\n",
       "      <td>-0.124</td>\n",
       "      <td>0.167</td>\n",
       "      <td>-0.237</td>\n",
       "      <td>-0.056</td>\n",
       "      <td>-0.161</td>\n",
       "      <td>-0.571</td>\n",
       "      <td>-0.493</td>\n",
       "      <td>-0.479</td>\n",
       "      <td>-0.380</td>\n",
       "      <td>-0.468</td>\n",
       "      <td>-0.525</td>\n",
       "      <td>-0.511</td>\n",
       "      <td>1</td>\n",
       "      <td>0</td>\n",
       "      <td>2.988</td>\n",
       "      <td>0.003</td>\n",
       "      <td>-0.250</td>\n",
       "      <td>-0.704</td>\n",
       "      <td>1</td>\n",
       "      <td>0.069</td>\n",
       "      <td>-0.122</td>\n",
       "      <td>0.125</td>\n",
       "      <td>-0.185</td>\n",
       "      <td>0.000</td>\n",
       "      <td>-0.123</td>\n",
       "      <td>-0.174</td>\n",
       "      <td>-0.259</td>\n",
       "      <td>-0.270</td>\n",
       "      <td>-0.019</td>\n",
       "      <td>-0.218</td>\n",
       "      <td>-0.493</td>\n",
       "      <td>-0.491</td>\n",
       "      <td>-0.561</td>\n",
       "      <td>-0.519</td>\n",
       "      <td>0</td>\n",
       "      <td>0</td>\n",
       "      <td>0</td>\n",
       "      <td>1</td>\n",
       "      <td>1</td>\n",
       "      <td>0</td>\n",
       "      <td>0</td>\n",
       "      <td>1</td>\n",
       "      <td>0</td>\n",
       "      <td>0</td>\n",
       "      <td>0</td>\n",
       "      <td>0</td>\n",
       "      <td>0</td>\n",
       "      <td>0</td>\n",
       "      <td>0</td>\n",
       "      <td>1</td>\n",
       "      <td>0</td>\n",
       "      <td>0</td>\n",
       "      <td>1</td>\n",
       "      <td>0</td>\n",
       "      <td>1</td>\n",
       "      <td>0</td>\n",
       "      <td>0</td>\n",
       "      <td>1</td>\n",
       "      <td>0</td>\n",
       "      <td>0</td>\n",
       "      <td>1</td>\n",
       "      <td>0</td>\n",
       "      <td>0</td>\n",
       "      <td>0</td>\n",
       "      <td>1</td>\n",
       "      <td>0</td>\n",
       "      <td>0</td>\n",
       "      <td>1</td>\n",
       "      <td>0</td>\n",
       "      <td>0</td>\n",
       "      <td>1</td>\n",
       "      <td>0</td>\n",
       "      <td>0</td>\n",
       "      <td>1</td>\n",
       "    </tr>\n",
       "  </tbody>\n",
       "</table>\n",
       "</div>"
      ],
      "text/plain": [
       "   atbat   hits  hmrun   runs    rbi  walks  years  catbat  chits  chmrun  cruns   crbi  cwalks  league  division  putouts  assists  errors  salary  newleague  new_hmrun_atbat  new_atbat_rbi  new_hmrun_rbi  new_atbat_walks  new_hmrun_walks  new_rbi_walks  nwe_hmrun_chumrun  new_rbi_chumrun  new_years_chumrun  new_assists_errors  new_sum_hit  new_sum_ball_hits  new_total_scores  new_total_runners  new_total_errors  new_experience_middle_experience  new_experience_high_experience  \\\n",
       "0 -0.337 -0.412 -0.583 -0.474 -0.420 -0.677 -0.714  -0.526 -0.520   0.000 -0.510 -0.576  -0.581       0         0    1.135   -0.041   1.750   0.000          0           -0.405         -0.310         -0.302           -0.454           -0.463         -0.466             -0.243           -0.117             -0.248               0.270       -0.390             -0.528            -0.470             -0.645            -0.643                                 0                               0   \n",
       "1 -0.251 -0.206 -0.083 -0.632 -0.168  0.129  1.143   0.489  0.385   0.393  0.174  0.573   0.751       1         1    2.095    0.022   0.500   0.106          1           -0.094         -0.179         -0.043           -0.056           -0.044         -0.034              0.142            0.197              1.041               0.137       -0.262              0.472             0.188              0.465             0.725                                 0                               1   \n",
       "2  0.388  0.467  0.833  0.474  0.783  1.323 -0.429  -0.098 -0.060   0.312 -0.054  0.131   0.338       0         1    3.375    0.267   1.000   0.116          0            0.947          0.670          1.082            1.116            1.730          1.570              0.707            0.609             -0.040               0.553        0.405             -0.090            -0.024              0.144             0.459                                 1                               0   \n",
       "3  0.454  0.619  1.000  0.447  0.951  0.065  0.714   1.191  1.255   2.508  1.366  1.839   0.673       1         0   -0.134   -0.179  -0.375   0.158          1            1.158          0.829          1.370            0.239            0.713          0.531              3.631            3.410              3.140              -0.093        0.495              1.215             1.553              1.772             0.643                                 0                               1   \n",
       "4 -0.228 -0.124  0.167 -0.237 -0.056 -0.161 -0.571  -0.493 -0.479  -0.380 -0.468 -0.525  -0.511       1         0    2.988    0.003  -0.250  -0.704          1            0.069         -0.122          0.125           -0.185            0.000         -0.123             -0.174           -0.259             -0.270              -0.019       -0.218             -0.493            -0.491             -0.561            -0.519                                 0                               0   \n",
       "\n",
       "   new_putout_level_middle_level  new_putout_level_high_level  new_league_cat_high_assists_level_N  new_league_cat_low_assists_level_A  new_league_cat_low_assists_level_N  new_newleague_cat_high_assists_level_N  new_newleague_cat_low_assists_level_A  new_newleague_cat_low_assists_level_N  new_division_cat_high_assists_level_W  new_division_cat_low_assists_level_E  new_division_cat_low_assists_level_W  new_error_cat_high_error_N  new_error_cat_low_error_A  new_error_cat_low_error_N  \\\n",
       "0                              0                            1                                    0                                   1                                   0                                       0                                      1                                      0                                      0                                     1                                     0                           0                          0                          0   \n",
       "1                              0                            1                                    1                                   0                                   0                                       1                                      0                                      0                                      1                                     0                                     0                           1                          0                          0   \n",
       "2                              0                            1                                    0                                   0                                   0                                       0                                      0                                      0                                      1                                     0                                     0                           0                          0                          0   \n",
       "3                              1                            0                                    0                                   0                                   1                                       0                                      0                                      1                                      0                                     1                                     0                           0                          0                          1   \n",
       "4                              0                            1                                    1                                   0                                   0                                       1                                      0                                      0                                      0                                     0                                     0                           0                          0                          1   \n",
       "\n",
       "   new_newerror_cat_high_error_N  new_newerror_cat_low_error_A  new_newerror_cat_low_error_N  new_division_error_high_error_W  new_division_error_low_error_E  new_division_error_low_error_W  new_division_walks_high_walks_W  new_division_walks_low_walks_E  new_division_walks_low_walks_W  new_division_cwalks_high_cwalks_W  new_division_cwalks_low_cwalks_E  new_division_cwalks_low_cwalks_W  new_league_walks_high_walks_N  new_league_walks_low_walks_A  new_league_walks_low_walks_N  \\\n",
       "0                              0                             0                             0                                0                               0                               0                                0                               1                               0                                  0                                 1                                 0                              0                             1                             0   \n",
       "1                              1                             0                             0                                1                               0                               0                                1                               0                               0                                  1                                 0                                 0                              1                             0                             0   \n",
       "2                              0                             0                             0                                1                               0                               0                                1                               0                               0                                  1                                 0                                 0                              0                             0                             0   \n",
       "3                              0                             0                             1                                0                               1                               0                                0                               0                               0                                  0                                 0                                 0                              1                             0                             0   \n",
       "4                              0                             0                             1                                0                               1                               0                                0                               1                               0                                  0                                 1                                 0                              0                             0                             1   \n",
       "\n",
       "   new_league_cwalks_high_cwalks_N  new_league_cwalks_low_cwalks_A  new_league_cwalks_low_cwalks_N  new_newleague_walks_high_walks_N  new_newleague_walks_low_walks_A  new_newleague_walks_low_walks_N  new_newleague_cwalks_high_cwalks_N  new_newleague_cwalks_low_cwalks_A  new_newleague_cwalks_low_cwalks_N  \n",
       "0                                0                               1                               0                                 0                                1                                0                                   0                                  1                                  0  \n",
       "1                                1                               0                               0                                 1                                0                                0                                   1                                  0                                  0  \n",
       "2                                0                               0                               0                                 0                                0                                0                                   0                                  0                                  0  \n",
       "3                                1                               0                               0                                 1                                0                                0                                   1                                  0                                  0  \n",
       "4                                0                               0                               1                                 0                                0                                1                                   0                                  0                                  1  "
      ]
     },
     "execution_count": 536,
     "metadata": {},
     "output_type": "execute_result"
    }
   ],
   "source": [
    "df.head()"
   ]
  },
  {
   "cell_type": "markdown",
   "metadata": {},
   "source": [
    "### **Modeling**"
   ]
  },
  {
   "cell_type": "code",
   "execution_count": 538,
   "metadata": {},
   "outputs": [],
   "source": [
    "y = df['salary']\n",
    "X = df.drop(['salary'], axis = 1)"
   ]
  },
  {
   "cell_type": "markdown",
   "metadata": {},
   "source": [
    "#### **Linear Regression**"
   ]
  },
  {
   "cell_type": "markdown",
   "metadata": {},
   "source": [
    "##### **Using all dataset**"
   ]
  },
  {
   "cell_type": "code",
   "execution_count": 541,
   "metadata": {},
   "outputs": [],
   "source": [
    "lin_model_one = LinearRegression().fit(X, y)"
   ]
  },
  {
   "cell_type": "code",
   "execution_count": 542,
   "metadata": {},
   "outputs": [
    {
     "data": {
      "text/plain": [
       "-206458117750.91718"
      ]
     },
     "execution_count": 542,
     "metadata": {},
     "output_type": "execute_result"
    }
   ],
   "source": [
    "lin_model_one.intercept_"
   ]
  },
  {
   "cell_type": "code",
   "execution_count": 543,
   "metadata": {},
   "outputs": [
    {
     "data": {
      "text/plain": [
       "array([ 7.06774956e+12,  2.00264374e+12,  3.30332988e+11,  1.78710938e-01,\n",
       "       -1.95312500e-01,  1.28173828e-01, -1.95312500e-03, -1.01513672e+00,\n",
       "        2.02197266e+00,  6.93847656e-01, -1.67480469e-01,  6.59179688e-03,\n",
       "        8.30078125e-03,  1.41601562e-02, -6.88476562e-02,  1.46484375e-03,\n",
       "        3.95507812e-02, -1.97753906e-02, -4.27246094e-03,  1.35693359e+00,\n",
       "       -7.09594727e-01, -5.27832031e-01, -7.45361328e-01, -7.19604492e-01,\n",
       "        1.49536133e+00,  3.18481445e-01, -2.13623047e-02, -5.59082031e-01,\n",
       "        4.15039062e-03, -9.23555980e+12, -3.80737305e-01, -4.16870117e-02,\n",
       "       -1.76391602e-02,  2.13317871e-02,  1.53503418e-01,  1.37939453e-01,\n",
       "        5.26428223e-02,  2.28637695e-01, -8.50219727e-02, -1.25335693e-01,\n",
       "        1.01776123e-01,  1.05895996e-01,  7.57675171e-02, -1.07238770e-01,\n",
       "       -3.31573486e-02,  5.52368164e-03, -2.57911682e-02,  5.61523438e-02,\n",
       "        1.41601562e-02, -3.71170044e-02, -2.89306641e-02, -5.65185547e-02,\n",
       "        3.44543457e-02, -4.68750000e-02, -1.62506104e-02, -1.11694336e-02,\n",
       "       -1.09466553e-01, -2.82363892e-02,  4.95452881e-02, -4.01916504e-02,\n",
       "       -1.91726685e-02, -1.80053711e-02, -1.96228027e-02, -1.33666992e-02,\n",
       "        3.26995850e-02,  7.36007690e-02,  7.78198242e-03, -4.85305786e-02,\n",
       "       -9.01794434e-03,  1.94396973e-02,  7.50732422e-03,  4.92858887e-03,\n",
       "       -3.51257324e-02, -9.74082947e-03])"
      ]
     },
     "execution_count": 543,
     "metadata": {},
     "output_type": "execute_result"
    }
   ],
   "source": [
    "lin_model_one.coef_"
   ]
  },
  {
   "cell_type": "code",
   "execution_count": 544,
   "metadata": {},
   "outputs": [],
   "source": [
    "y_pred = lin_model_one.predict(X)"
   ]
  },
  {
   "cell_type": "markdown",
   "metadata": {},
   "source": [
    "**Model evaluation with all datasets**"
   ]
  },
  {
   "cell_type": "code",
   "execution_count": 550,
   "metadata": {},
   "outputs": [
    {
     "name": "stdout",
     "output_type": "stream",
     "text": [
      "MSE = 0.24953668885827016\n",
      "RMSE = 0.49953647400191925\n",
      "MAE = 0.3657317640516716\n",
      "R2 = 0.6602567002026332\n"
     ]
    }
   ],
   "source": [
    "print(f'MSE = {mean_squared_error(y, y_pred)}')\n",
    "print(f'RMSE = {np.sqrt(mean_squared_error(y, y_pred))}')\n",
    "print(f'MAE = {mean_absolute_error(y, y_pred)}')\n",
    "print(f'R2 = {lin_model_one.score(X, y)}')"
   ]
  },
  {
   "cell_type": "markdown",
   "metadata": {},
   "source": [
    "**Model evaluation using 10-fold cross validation**"
   ]
  },
  {
   "cell_type": "code",
   "execution_count": 562,
   "metadata": {},
   "outputs": [
    {
     "name": "stdout",
     "output_type": "stream",
     "text": [
      "RMSE: 0.63\n",
      "MSE: 0.41\n",
      "MAE: 0.46\n",
      "R2 Score: 0.31\n"
     ]
    }
   ],
   "source": [
    "print(f\"RMSE: {round(np.mean(np.sqrt(-cross_val_score(lin_model_one, X, y, cv = 10, scoring = 'neg_mean_squared_error'))), 2)}\")\n",
    "print(f\"MSE: {round(np.mean((-cross_val_score(lin_model_one, X, y, cv = 10, scoring = 'neg_mean_squared_error'))), 2)}\")\n",
    "print(f\"MAE: {round(np.mean((-cross_val_score(lin_model_one, X, y, cv = 10, scoring = 'neg_mean_absolute_error'))), 2)}\")\n",
    "print(f\"R2 Score: {round(np.mean((cross_val_score(lin_model_one, X, y, cv = 10, scoring = 'r2'))), 3)}\")"
   ]
  },
  {
   "cell_type": "markdown",
   "metadata": {},
   "source": [
    "##### **Using train-test dataset**"
   ]
  },
  {
   "cell_type": "code",
   "execution_count": 551,
   "metadata": {},
   "outputs": [],
   "source": [
    "X_train, X_test, y_train, y_test = train_test_split(X, y, test_size = 0.30, random_state = 17)"
   ]
  },
  {
   "cell_type": "code",
   "execution_count": 552,
   "metadata": {},
   "outputs": [],
   "source": [
    "lin_model_two = LinearRegression().fit(X_train, y_train)"
   ]
  },
  {
   "cell_type": "code",
   "execution_count": 553,
   "metadata": {},
   "outputs": [
    {
     "data": {
      "text/plain": [
       "23566378423.05297"
      ]
     },
     "execution_count": 553,
     "metadata": {},
     "output_type": "execute_result"
    }
   ],
   "source": [
    "lin_model_two.intercept_"
   ]
  },
  {
   "cell_type": "code",
   "execution_count": 554,
   "metadata": {},
   "outputs": [
    {
     "data": {
      "text/plain": [
       "array([-8.06755688e+11, -2.28593871e+11, -3.77062055e+10,  3.90014648e-02,\n",
       "       -2.36114502e-01,  3.88092041e-01, -7.69653320e-02, -3.20678711e-01,\n",
       "        1.51522827e+00,  7.49145508e-01, -3.74389648e-01, -1.22650146e-01,\n",
       "       -1.44195557e-01, -3.28369141e-02, -6.56127930e-02, -3.68957520e-02,\n",
       "        6.22558594e-02,  2.69470215e-02,  4.93621826e-02,  1.51107788e+00,\n",
       "       -1.18852234e+00, -5.43106079e-01, -1.23872375e+00, -1.36045837e+00,\n",
       "        2.31770325e+00,  2.32238770e-01,  9.06524658e-02, -4.28482056e-01,\n",
       "        1.37405396e-02,  1.05420266e+12,  7.48138428e-02, -2.12455750e-01,\n",
       "       -1.35528564e-01, -9.41429138e-02,  1.97334290e-01,  2.84980774e-01,\n",
       "        6.59103394e-02,  1.86065674e-01, -1.43571854e-01, -1.02573395e-01,\n",
       "        1.09724045e-01,  1.61071777e-01,  1.20136261e-01, -1.11220360e-01,\n",
       "       -2.13909149e-02,  5.26075363e-02, -4.40559387e-02, -9.62066650e-02,\n",
       "       -6.96067810e-02,  6.25038147e-02,  3.19652557e-02, -2.45018005e-02,\n",
       "        1.77774429e-02, -8.87680054e-02, -2.99688578e-02,  2.36816406e-02,\n",
       "       -1.07318878e-01, -3.27215195e-02,  4.12337780e-02, -7.41233826e-02,\n",
       "       -8.03451538e-02,  8.88729095e-03,  2.97145844e-02,  7.27653503e-02,\n",
       "       -6.29692078e-02, -1.91869736e-02, -5.59806824e-02, -1.41105652e-02,\n",
       "        7.87734985e-03, -3.19137573e-02,  4.23393250e-02,  5.50079346e-02,\n",
       "       -6.51931763e-02, -5.52749634e-03])"
      ]
     },
     "execution_count": 554,
     "metadata": {},
     "output_type": "execute_result"
    }
   ],
   "source": [
    "lin_model_two.coef_"
   ]
  },
  {
   "cell_type": "markdown",
   "metadata": {},
   "source": [
    "**Model evaluation with train dataset**"
   ]
  },
  {
   "cell_type": "code",
   "execution_count": 556,
   "metadata": {},
   "outputs": [],
   "source": [
    "y_pred = lin_model_two.predict(X_train)"
   ]
  },
  {
   "cell_type": "code",
   "execution_count": 557,
   "metadata": {},
   "outputs": [
    {
     "name": "stdout",
     "output_type": "stream",
     "text": [
      "MSE = 0.21486120236551964\n",
      "RMSE = 0.4635312312730607\n",
      "MAE = 0.350140736413084\n",
      "R2 = 0.6672911518277315\n"
     ]
    }
   ],
   "source": [
    "print(f'MSE = {mean_squared_error(y_train, y_pred)}')\n",
    "print(f'RMSE = {np.sqrt(mean_squared_error(y_train, y_pred))}')\n",
    "print(f'MAE = {mean_absolute_error(y_train, y_pred)}')\n",
    "print(f'R2 = {lin_model_two.score(X_train, y_train)}')"
   ]
  },
  {
   "cell_type": "markdown",
   "metadata": {},
   "source": [
    "**Model evaluation with test dataset**"
   ]
  },
  {
   "cell_type": "code",
   "execution_count": 558,
   "metadata": {},
   "outputs": [],
   "source": [
    "y_pred = lin_model_two.predict(X_test)"
   ]
  },
  {
   "cell_type": "code",
   "execution_count": 559,
   "metadata": {},
   "outputs": [
    {
     "name": "stdout",
     "output_type": "stream",
     "text": [
      "MSE = 0.528799942399367\n",
      "RMSE = 0.7271863189027741\n",
      "MAE = 0.5268403771610394\n",
      "R2 = 0.43572397632959503\n"
     ]
    }
   ],
   "source": [
    "print(f'MSE = {mean_squared_error(y_test, y_pred)}')\n",
    "print(f'RMSE = {np.sqrt(mean_squared_error(y_test, y_pred))}')\n",
    "print(f'MAE = {mean_absolute_error(y_test, y_pred)}')\n",
    "print(f'R2 = {lin_model_two.score(X_test, y_test)}')"
   ]
  },
  {
   "cell_type": "markdown",
   "metadata": {},
   "source": [
    "**Model evaluation with 10-fold cross validation**"
   ]
  },
  {
   "cell_type": "code",
   "execution_count": 561,
   "metadata": {},
   "outputs": [
    {
     "name": "stdout",
     "output_type": "stream",
     "text": [
      "RMSE: 0.63\n",
      "MSE: 0.41\n",
      "MAE: 0.46\n",
      "R2 Score: 0.31\n"
     ]
    }
   ],
   "source": [
    "print(f\"RMSE: {round(np.mean(np.sqrt(-cross_val_score(lin_model_two, X, y, cv = 10, scoring = 'neg_mean_squared_error'))), 2)}\")\n",
    "print(f\"MSE: {round(np.mean((-cross_val_score(lin_model_two, X, y, cv = 10, scoring = 'neg_mean_squared_error'))), 2)}\")\n",
    "print(f\"MAE: {round(np.mean((-cross_val_score(lin_model_two, X, y, cv = 10, scoring = 'neg_mean_absolute_error'))), 2)}\")\n",
    "print(f\"R2 Score: {round(np.mean((cross_val_score(lin_model_two, X, y, cv = 10, scoring = 'r2'))), 3)}\")"
   ]
  },
  {
   "cell_type": "code",
   "execution_count": 564,
   "metadata": {},
   "outputs": [
    {
     "data": {
      "text/plain": [
       "array([-0.13369751])"
      ]
     },
     "execution_count": 564,
     "metadata": {},
     "output_type": "execute_result"
    }
   ],
   "source": [
    "X.columns\n",
    "random_user = X.sample(1, random_state = 45)\n",
    "lin_model_one.predict(random_user)"
   ]
  },
  {
   "cell_type": "code",
   "execution_count": 565,
   "metadata": {},
   "outputs": [
    {
     "data": {
      "text/plain": [
       "array([-0.08046722])"
      ]
     },
     "execution_count": 565,
     "metadata": {},
     "output_type": "execute_result"
    }
   ],
   "source": [
    "X.columns\n",
    "random_user = X.sample(1, random_state = 45)\n",
    "lin_model_two.predict(random_user)"
   ]
  },
  {
   "cell_type": "markdown",
   "metadata": {},
   "source": [
    "**Base Multiple Linear Regression Model**"
   ]
  },
  {
   "cell_type": "code",
   "execution_count": 567,
   "metadata": {},
   "outputs": [],
   "source": [
    "df = dataset()\n",
    "df.columns = [col.lower() for col in df.columns]\n",
    "df.dropna(inplace = True)\n",
    "df = pd.get_dummies(df, columns = ['league', 'division', 'newleague'], drop_first = True)\n",
    "X = df.drop(['salary'], axis = 1)\n",
    "y = df['salary']\n",
    "reg_model = LinearRegression().fit(X, y)\n",
    "y_pred = reg_model.predict(X)"
   ]
  },
  {
   "cell_type": "code",
   "execution_count": 569,
   "metadata": {},
   "outputs": [
    {
     "name": "stdout",
     "output_type": "stream",
     "text": [
      "MSE = 92017.86901772917\n",
      "RMSE = 303.34447253531613\n",
      "MAE = 214.84953850235445\n",
      "R2 = 0.5461158619125323\n"
     ]
    }
   ],
   "source": [
    "print(f'MSE = {mean_squared_error(y, y_pred)}')\n",
    "print(f'RMSE = {np.sqrt(mean_squared_error(y, y_pred))}')\n",
    "print(f'MAE = {mean_absolute_error(y, y_pred)}')\n",
    "print(f'R2 = {reg_model.score(X, y)}')"
   ]
  },
  {
   "cell_type": "code",
   "execution_count": 572,
   "metadata": {},
   "outputs": [],
   "source": [
    "df = dataset()\n",
    "df.columns = [col.lower() for col in df.columns]\n",
    "df.dropna(inplace = True)\n",
    "df = pd.get_dummies(df, columns = ['league', 'division', 'newleague'], drop_first = True)\n",
    "X = df.drop(['salary'], axis = 1)\n",
    "y = df['salary']\n",
    "X_train, X_test, y_train, y_test = train_test_split(X, y, test_size = 0.30, random_state = 17)\n",
    "reg_model = LinearRegression().fit(X_train, y_train)\n",
    "y_pred = reg_model.predict(X_train)"
   ]
  },
  {
   "cell_type": "code",
   "execution_count": 573,
   "metadata": {},
   "outputs": [
    {
     "name": "stdout",
     "output_type": "stream",
     "text": [
      "MSE = 98793.68149589142\n",
      "RMSE = 314.31462182961104\n",
      "MAE = 223.61423958786793\n",
      "R2 = 0.5242808883483996\n"
     ]
    }
   ],
   "source": [
    "print(f'MSE = {mean_squared_error(y_train, y_pred)}')\n",
    "print(f'RMSE = {np.sqrt(mean_squared_error(y_train, y_pred))}')\n",
    "print(f'MAE = {mean_absolute_error(y_train, y_pred)}')\n",
    "print(f'R2 = {reg_model.score(X_train, y_train)}')"
   ]
  },
  {
   "cell_type": "code",
   "execution_count": 574,
   "metadata": {},
   "outputs": [],
   "source": [
    "df = dataset()\n",
    "df.columns = [col.lower() for col in df.columns]\n",
    "df.dropna(inplace = True)\n",
    "df = pd.get_dummies(df, columns = ['league', 'division', 'newleague'], drop_first = True)\n",
    "X = df.drop(['salary'], axis = 1)\n",
    "y = df['salary']\n",
    "X_train, X_test, y_train, y_test = train_test_split(X, y, test_size = 0.30, random_state = 17)\n",
    "reg_model = LinearRegression().fit(X_train, y_train)\n",
    "y_pred = reg_model.predict(X_test)"
   ]
  },
  {
   "cell_type": "code",
   "execution_count": 575,
   "metadata": {},
   "outputs": [
    {
     "name": "stdout",
     "output_type": "stream",
     "text": [
      "MSE = 98932.93591553433\n",
      "RMSE = 314.53606457055815\n",
      "MAE = 220.22205728681433\n",
      "R2 = 0.4820148298458816\n"
     ]
    }
   ],
   "source": [
    "print(f'MSE = {mean_squared_error(y_test, y_pred)}')\n",
    "print(f'RMSE = {np.sqrt(mean_squared_error(y_test, y_pred))}')\n",
    "print(f'MAE = {mean_absolute_error(y_test, y_pred)}')\n",
    "print(f'R2 = {reg_model.score(X_test, y_test)}')"
   ]
  },
  {
   "cell_type": "code",
   "execution_count": null,
   "metadata": {},
   "outputs": [],
   "source": []
  }
 ],
 "metadata": {
  "kernelspec": {
   "display_name": "Python 3.10.0 64-bit",
   "language": "python",
   "name": "python3"
  },
  "language_info": {
   "codemirror_mode": {
    "name": "ipython",
    "version": 3
   },
   "file_extension": ".py",
   "mimetype": "text/x-python",
   "name": "python",
   "nbconvert_exporter": "python",
   "pygments_lexer": "ipython3",
   "version": "3.10.0"
  },
  "orig_nbformat": 4,
  "vscode": {
   "interpreter": {
    "hash": "b7377f19eab4b8c2e19b4d5b732c435591579d0f123dd21b146d33dfd161e508"
   }
  }
 },
 "nbformat": 4,
 "nbformat_minor": 2
}
